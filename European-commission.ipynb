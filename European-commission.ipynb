{
 "cells": [
  {
   "cell_type": "markdown",
   "id": "98684b51-817b-4cfd-b4be-1155c7937dba",
   "metadata": {},
   "source": [
    "## European Commission"
   ]
  },
  {
   "cell_type": "code",
   "execution_count": 1,
   "id": "f8218db1-e073-4f81-97ad-04dc9a8cc894",
   "metadata": {},
   "outputs": [],
   "source": [
    "import pandas as pd"
   ]
  },
  {
   "cell_type": "code",
   "execution_count": 2,
   "id": "debd4230-a8b6-4e89-9bbe-0be6b5e17615",
   "metadata": {},
   "outputs": [
    {
     "data": {
      "text/html": [
       "<div>\n",
       "<style scoped>\n",
       "    .dataframe tbody tr th:only-of-type {\n",
       "        vertical-align: middle;\n",
       "    }\n",
       "\n",
       "    .dataframe tbody tr th {\n",
       "        vertical-align: top;\n",
       "    }\n",
       "\n",
       "    .dataframe thead th {\n",
       "        text-align: right;\n",
       "    }\n",
       "</style>\n",
       "<table border=\"1\" class=\"dataframe\">\n",
       "  <thead>\n",
       "    <tr style=\"text-align: right;\">\n",
       "      <th></th>\n",
       "      <th>nr</th>\n",
       "      <th>commission_representative</th>\n",
       "      <th>portfolio</th>\n",
       "      <th>date</th>\n",
       "      <th>location</th>\n",
       "      <th>subject(s)-edited</th>\n",
       "      <th>lobbyist</th>\n",
       "      <th>health_meeting_or_lab</th>\n",
       "      <th>Unnamed: 8</th>\n",
       "      <th>Unnamed: 9</th>\n",
       "      <th>Unnamed: 10</th>\n",
       "    </tr>\n",
       "  </thead>\n",
       "  <tbody>\n",
       "    <tr>\n",
       "      <th>0</th>\n",
       "      <td>1</td>\n",
       "      <td>Ladislav Miko, Director-General</td>\n",
       "      <td>Director-General of Health and Food Safety (SA...</td>\n",
       "      <td>2015-04-15</td>\n",
       "      <td>Brussels, BELGIUM</td>\n",
       "      <td>Seeds</td>\n",
       "      <td>ARCHE NOAH, Gesellschaft für die Erhaltung der...</td>\n",
       "      <td>False</td>\n",
       "      <td>NaN</td>\n",
       "      <td>NaN</td>\n",
       "      <td>NaN</td>\n",
       "    </tr>\n",
       "    <tr>\n",
       "      <th>1</th>\n",
       "      <td>2</td>\n",
       "      <td>Arunas Ribokas, Cabinet member of Vytenis Andr...</td>\n",
       "      <td>Health &amp; Food Safety</td>\n",
       "      <td>2015-01-30</td>\n",
       "      <td>Brussels</td>\n",
       "      <td>The Food Chain, Innovation and Challenges, Foo...</td>\n",
       "      <td>ARCHE NOAH, Gesellschaft für die Erhaltung der...</td>\n",
       "      <td>False</td>\n",
       "      <td>NaN</td>\n",
       "      <td>NaN</td>\n",
       "      <td>NaN</td>\n",
       "    </tr>\n",
       "    <tr>\n",
       "      <th>2</th>\n",
       "      <td>3</td>\n",
       "      <td>Nathalie Chaze, Cabinet member of Vytenis Andr...</td>\n",
       "      <td>Health &amp; Food Safety</td>\n",
       "      <td>2015-01-06</td>\n",
       "      <td>Brussels</td>\n",
       "      <td>Plant Reproductive Material Proposal</td>\n",
       "      <td>ARCHE NOAH, Gesellschaft für die Erhaltung der...</td>\n",
       "      <td>False</td>\n",
       "      <td>NaN</td>\n",
       "      <td>NaN</td>\n",
       "      <td>NaN</td>\n",
       "    </tr>\n",
       "    <tr>\n",
       "      <th>3</th>\n",
       "      <td>1</td>\n",
       "      <td>Roberto Viola, Director-General</td>\n",
       "      <td>Director-General of Communications Networks, C...</td>\n",
       "      <td>2019-02-21</td>\n",
       "      <td>Brussels</td>\n",
       "      <td>Quantum Technologies</td>\n",
       "      <td>Austrian Institute of Technology GmbH (AIT)</td>\n",
       "      <td>False</td>\n",
       "      <td>NaN</td>\n",
       "      <td>NaN</td>\n",
       "      <td>NaN</td>\n",
       "    </tr>\n",
       "    <tr>\n",
       "      <th>4</th>\n",
       "      <td>2</td>\n",
       "      <td>Mariya Gabriel, Commissioner</td>\n",
       "      <td>Digital Economy and Society</td>\n",
       "      <td>2019-01-08</td>\n",
       "      <td>Sofia</td>\n",
       "      <td>Cloud computing, Cybersecurity</td>\n",
       "      <td>Austrian Institute of Technology GmbH (AIT)</td>\n",
       "      <td>False</td>\n",
       "      <td>NaN</td>\n",
       "      <td>NaN</td>\n",
       "      <td>NaN</td>\n",
       "    </tr>\n",
       "  </tbody>\n",
       "</table>\n",
       "</div>"
      ],
      "text/plain": [
       "   nr                          commission_representative  \\\n",
       "0   1                    Ladislav Miko, Director-General   \n",
       "1   2  Arunas Ribokas, Cabinet member of Vytenis Andr...   \n",
       "2   3  Nathalie Chaze, Cabinet member of Vytenis Andr...   \n",
       "3   1                    Roberto Viola, Director-General   \n",
       "4   2                       Mariya Gabriel, Commissioner   \n",
       "\n",
       "                                           portfolio       date  \\\n",
       "0  Director-General of Health and Food Safety (SA... 2015-04-15   \n",
       "1                               Health & Food Safety 2015-01-30   \n",
       "2                               Health & Food Safety 2015-01-06   \n",
       "3  Director-General of Communications Networks, C... 2019-02-21   \n",
       "4                        Digital Economy and Society 2019-01-08   \n",
       "\n",
       "            location                                  subject(s)-edited  \\\n",
       "0  Brussels, BELGIUM                                              Seeds   \n",
       "1           Brussels  The Food Chain, Innovation and Challenges, Foo...   \n",
       "2           Brussels               Plant Reproductive Material Proposal   \n",
       "3           Brussels                               Quantum Technologies   \n",
       "4              Sofia                     Cloud computing, Cybersecurity   \n",
       "\n",
       "                                            lobbyist  health_meeting_or_lab  \\\n",
       "0  ARCHE NOAH, Gesellschaft für die Erhaltung der...                  False   \n",
       "1  ARCHE NOAH, Gesellschaft für die Erhaltung der...                  False   \n",
       "2  ARCHE NOAH, Gesellschaft für die Erhaltung der...                  False   \n",
       "3        Austrian Institute of Technology GmbH (AIT)                  False   \n",
       "4        Austrian Institute of Technology GmbH (AIT)                  False   \n",
       "\n",
       "   Unnamed: 8  Unnamed: 9 Unnamed: 10  \n",
       "0         NaN         NaN         NaN  \n",
       "1         NaN         NaN         NaN  \n",
       "2         NaN         NaN         NaN  \n",
       "3         NaN         NaN         NaN  \n",
       "4         NaN         NaN         NaN  "
      ]
     },
     "execution_count": 2,
     "metadata": {},
     "output_type": "execute_result"
    }
   ],
   "source": [
    "df = pd.read_csv(\"commission-lobbists-meetings.csv\", parse_dates=[\"date\"], dayfirst = True)\n",
    "df.head()"
   ]
  },
  {
   "cell_type": "markdown",
   "id": "75944904-5e0c-4a18-a9ec-b25a1de3258e",
   "metadata": {},
   "source": [
    "Create a list of all unique locations, sorted in alphabetical order.\n"
   ]
  },
  {
   "cell_type": "code",
   "execution_count": 3,
   "id": "1afa7fde-2aa8-4706-abc3-95dc4aa01843",
   "metadata": {
    "tags": []
   },
   "outputs": [
    {
     "data": {
      "text/plain": [
       "['1 Rue Zinner',\n",
       " 'Algiers',\n",
       " 'AmCham EU office, on Avenue des Arts 53, 1000 Brussels',\n",
       " 'Amcham',\n",
       " 'Amsterdam',\n",
       " 'Amsterdam - Elsevier HQ',\n",
       " 'Amsterdam, The Netherlands',\n",
       " 'Ancient Olympia, Greece',\n",
       " 'Antwerp',\n",
       " 'Athens']"
      ]
     },
     "execution_count": 3,
     "metadata": {},
     "output_type": "execute_result"
    }
   ],
   "source": [
    "unique_locations = sorted(list(set(df[\"location\"].astype(str).tolist())))\n",
    "unique_locations[:10]"
   ]
  },
  {
   "cell_type": "markdown",
   "id": "0ace9497-d5ad-4038-b62a-6d6c60de7e5c",
   "metadata": {},
   "source": [
    "Add a new column `\"is_brussels\"` that contains a True for every meeting that was held in Brussels, fully face to face or partially remotely. Look for references to Brussels in the `\"location\"` column including misspellings, specific hotels and buildings in the city, abbreviations, French spellings, ... go as far as you want."
   ]
  },
  {
   "cell_type": "code",
   "execution_count": 4,
   "id": "93130159-da55-4257-a491-65d1cfb8562f",
   "metadata": {},
   "outputs": [
    {
     "data": {
      "text/plain": [
       "0     True\n",
       "1     True\n",
       "2     True\n",
       "3     True\n",
       "4    False\n",
       "Name: is_brussels, dtype: bool"
      ]
     },
     "execution_count": 4,
     "metadata": {},
     "output_type": "execute_result"
    }
   ],
   "source": [
    "df[\"is_brussels\"] = df[\"location\"].str.lower().str.contains(\"br[uyü][sx][se][les][eslk][es]?|berlaymont|berl\", na=False)\n",
    "df[\"is_brussels\"].head()"
   ]
  },
  {
   "cell_type": "code",
   "execution_count": 5,
   "id": "3cf6a900-5065-4e37-a91e-b998a3212928",
   "metadata": {},
   "outputs": [
    {
     "data": {
      "text/plain": [
       "9932"
      ]
     },
     "execution_count": 5,
     "metadata": {},
     "output_type": "execute_result"
    }
   ],
   "source": [
    "df[\"is_brussels\"].value_counts()[True]"
   ]
  },
  {
   "cell_type": "markdown",
   "id": "bbf4f961-0f21-424e-93d0-87e4ec60fe95",
   "metadata": {},
   "source": [
    "Add a new column \"num_representatives\" to the `commission-lobbists-meetings.csv` DataFrame accounting for the number of representatives. Hint: have a look at the Series.explode method.\n",
    "\n",
    ">Is this new `\"num_representatives\"` column equal to the existing `\"nr\"` column?\n",
    "\n",
    ">What are the meetings that have the maximum number of representatives attending? What do they have in common?"
   ]
  },
  {
   "cell_type": "code",
   "execution_count": 6,
   "id": "ad61fca3-da1d-45d3-84b4-d5d1f662c698",
   "metadata": {},
   "outputs": [
    {
     "data": {
      "text/plain": [
       "0    1\n",
       "1    4\n",
       "2    2\n",
       "3    1\n",
       "4    1\n",
       "Name: num_representatives, dtype: int64"
      ]
     },
     "execution_count": 6,
     "metadata": {},
     "output_type": "execute_result"
    }
   ],
   "source": [
    "df[\"num_representatives\"] = df[\"commission_representative\"].str.split(\";\").explode().reset_index().groupby(\"index\").count()\n",
    "df[\"num_representatives\"].head()"
   ]
  },
  {
   "cell_type": "code",
   "execution_count": 7,
   "id": "2d38e497-4e6c-4ee4-aac7-10d1508d0f0b",
   "metadata": {},
   "outputs": [
    {
     "name": "stdout",
     "output_type": "stream",
     "text": [
      "both columns are equal for 1222 rows out of 12025.\n"
     ]
    }
   ],
   "source": [
    "both_equal = (df[\"num_representatives\"] == df[\"nr\"]).value_counts()[True]\n",
    "print(\"both columns are equal for\",both_equal, \"rows out of 12025.\")"
   ]
  },
  {
   "cell_type": "code",
   "execution_count": 8,
   "id": "80ae915b-34a5-4e38-9e96-7512e8d463f4",
   "metadata": {},
   "outputs": [
    {
     "data": {
      "text/plain": [
       "11"
      ]
     },
     "execution_count": 8,
     "metadata": {},
     "output_type": "execute_result"
    }
   ],
   "source": [
    "df[\"num_representatives\"].max()"
   ]
  },
  {
   "cell_type": "code",
   "execution_count": 9,
   "id": "aae60f6d-a0bc-4220-a6b8-ec0f0ea66af6",
   "metadata": {},
   "outputs": [
    {
     "data": {
      "text/html": [
       "<div>\n",
       "<style scoped>\n",
       "    .dataframe tbody tr th:only-of-type {\n",
       "        vertical-align: middle;\n",
       "    }\n",
       "\n",
       "    .dataframe tbody tr th {\n",
       "        vertical-align: top;\n",
       "    }\n",
       "\n",
       "    .dataframe thead th {\n",
       "        text-align: right;\n",
       "    }\n",
       "</style>\n",
       "<table border=\"1\" class=\"dataframe\">\n",
       "  <thead>\n",
       "    <tr style=\"text-align: right;\">\n",
       "      <th></th>\n",
       "      <th>nr</th>\n",
       "      <th>commission_representative</th>\n",
       "      <th>portfolio</th>\n",
       "      <th>date</th>\n",
       "      <th>location</th>\n",
       "      <th>subject(s)-edited</th>\n",
       "      <th>lobbyist</th>\n",
       "      <th>health_meeting_or_lab</th>\n",
       "      <th>Unnamed: 8</th>\n",
       "      <th>Unnamed: 9</th>\n",
       "      <th>Unnamed: 10</th>\n",
       "      <th>is_brussels</th>\n",
       "      <th>num_representatives</th>\n",
       "    </tr>\n",
       "  </thead>\n",
       "  <tbody>\n",
       "    <tr>\n",
       "      <th>8973</th>\n",
       "      <td>1</td>\n",
       "      <td>Anthony Whelan, Cabinet member of Ursula von d...</td>\n",
       "      <td>President</td>\n",
       "      <td>2020-07-30</td>\n",
       "      <td>Brussels - Belgium</td>\n",
       "      <td>Brainstorming Session on \"The State of the Uni...</td>\n",
       "      <td>Rijksuniversiteit Groningen (UG)</td>\n",
       "      <td>False</td>\n",
       "      <td>NaN</td>\n",
       "      <td>NaN</td>\n",
       "      <td>NaN</td>\n",
       "      <td>True</td>\n",
       "      <td>11</td>\n",
       "    </tr>\n",
       "    <tr>\n",
       "      <th>5714</th>\n",
       "      <td>1</td>\n",
       "      <td>Olivier Smith, Cabinet member of Ursula von de...</td>\n",
       "      <td>President</td>\n",
       "      <td>2020-07-30</td>\n",
       "      <td>Brussels - Belgium</td>\n",
       "      <td>Brainstorming Session on \"The State of the Uni...</td>\n",
       "      <td>Københavns Universitet (UCPH)</td>\n",
       "      <td>False</td>\n",
       "      <td>NaN</td>\n",
       "      <td>NaN</td>\n",
       "      <td>NaN</td>\n",
       "      <td>True</td>\n",
       "      <td>11</td>\n",
       "    </tr>\n",
       "    <tr>\n",
       "      <th>8520</th>\n",
       "      <td>2</td>\n",
       "      <td>Per Haugaard, Cabinet member of Ursula von der...</td>\n",
       "      <td>President</td>\n",
       "      <td>2020-07-30</td>\n",
       "      <td>Brussels - Belgium</td>\n",
       "      <td>Brainstorming Session on \"The State of the Uni...</td>\n",
       "      <td>European University Institute (EUI)</td>\n",
       "      <td>False</td>\n",
       "      <td>NaN</td>\n",
       "      <td>NaN</td>\n",
       "      <td>NaN</td>\n",
       "      <td>True</td>\n",
       "      <td>11</td>\n",
       "    </tr>\n",
       "    <tr>\n",
       "      <th>4233</th>\n",
       "      <td>6</td>\n",
       "      <td>Olivier Smith, Cabinet member of Ursula von de...</td>\n",
       "      <td>President</td>\n",
       "      <td>2020-07-30</td>\n",
       "      <td>Brussels - Belgium</td>\n",
       "      <td>Brainstorming Session on \"The State of the Uni...</td>\n",
       "      <td>Open Society European Policy Institute (OSEPI)</td>\n",
       "      <td>False</td>\n",
       "      <td>NaN</td>\n",
       "      <td>NaN</td>\n",
       "      <td>NaN</td>\n",
       "      <td>True</td>\n",
       "      <td>11</td>\n",
       "    </tr>\n",
       "    <tr>\n",
       "      <th>6189</th>\n",
       "      <td>1</td>\n",
       "      <td>Mary Veronica Tovsak Pleterski, Cabinet member...</td>\n",
       "      <td>President</td>\n",
       "      <td>2020-07-30</td>\n",
       "      <td>Brussels - Belgium</td>\n",
       "      <td>Brainstorming Session on \"The State of the Uni...</td>\n",
       "      <td>Business at OECD (BIAC)</td>\n",
       "      <td>False</td>\n",
       "      <td>NaN</td>\n",
       "      <td>NaN</td>\n",
       "      <td>NaN</td>\n",
       "      <td>True</td>\n",
       "      <td>11</td>\n",
       "    </tr>\n",
       "    <tr>\n",
       "      <th>5425</th>\n",
       "      <td>1</td>\n",
       "      <td>Fernando Sampedro Marcos, Cabinet member of Ur...</td>\n",
       "      <td>President</td>\n",
       "      <td>2020-07-28</td>\n",
       "      <td>Brussels - Belgium</td>\n",
       "      <td>High-Level Roundtable Discussion on The State ...</td>\n",
       "      <td>Vrije Universiteit Brussel (VUB)</td>\n",
       "      <td>True</td>\n",
       "      <td>NaN</td>\n",
       "      <td>NaN</td>\n",
       "      <td>NaN</td>\n",
       "      <td>True</td>\n",
       "      <td>10</td>\n",
       "    </tr>\n",
       "  </tbody>\n",
       "</table>\n",
       "</div>"
      ],
      "text/plain": [
       "      nr                          commission_representative  portfolio  \\\n",
       "8973   1  Anthony Whelan, Cabinet member of Ursula von d...  President   \n",
       "5714   1  Olivier Smith, Cabinet member of Ursula von de...  President   \n",
       "8520   2  Per Haugaard, Cabinet member of Ursula von der...  President   \n",
       "4233   6  Olivier Smith, Cabinet member of Ursula von de...  President   \n",
       "6189   1  Mary Veronica Tovsak Pleterski, Cabinet member...  President   \n",
       "5425   1  Fernando Sampedro Marcos, Cabinet member of Ur...  President   \n",
       "\n",
       "           date            location  \\\n",
       "8973 2020-07-30  Brussels - Belgium   \n",
       "5714 2020-07-30  Brussels - Belgium   \n",
       "8520 2020-07-30  Brussels - Belgium   \n",
       "4233 2020-07-30  Brussels - Belgium   \n",
       "6189 2020-07-30  Brussels - Belgium   \n",
       "5425 2020-07-28  Brussels - Belgium   \n",
       "\n",
       "                                      subject(s)-edited  \\\n",
       "8973  Brainstorming Session on \"The State of the Uni...   \n",
       "5714  Brainstorming Session on \"The State of the Uni...   \n",
       "8520  Brainstorming Session on \"The State of the Uni...   \n",
       "4233  Brainstorming Session on \"The State of the Uni...   \n",
       "6189  Brainstorming Session on \"The State of the Uni...   \n",
       "5425  High-Level Roundtable Discussion on The State ...   \n",
       "\n",
       "                                            lobbyist  health_meeting_or_lab  \\\n",
       "8973                Rijksuniversiteit Groningen (UG)                  False   \n",
       "5714                   Københavns Universitet (UCPH)                  False   \n",
       "8520             European University Institute (EUI)                  False   \n",
       "4233  Open Society European Policy Institute (OSEPI)                  False   \n",
       "6189                         Business at OECD (BIAC)                  False   \n",
       "5425                Vrije Universiteit Brussel (VUB)                   True   \n",
       "\n",
       "      Unnamed: 8  Unnamed: 9 Unnamed: 10  is_brussels  num_representatives  \n",
       "8973         NaN         NaN         NaN         True                   11  \n",
       "5714         NaN         NaN         NaN         True                   11  \n",
       "8520         NaN         NaN         NaN         True                   11  \n",
       "4233         NaN         NaN         NaN         True                   11  \n",
       "6189         NaN         NaN         NaN         True                   11  \n",
       "5425         NaN         NaN         NaN         True                   10  "
      ]
     },
     "execution_count": 9,
     "metadata": {},
     "output_type": "execute_result"
    }
   ],
   "source": [
    "#to see the similarities between the meetings with the max number of representatives\n",
    "df.sort_values(\"num_representatives\", ascending=False, inplace=False)[:6]"
   ]
  },
  {
   "cell_type": "markdown",
   "id": "e97d7983-156c-4179-b7e5-942c2acc2f01",
   "metadata": {},
   "source": [
    "## $GOOG data"
   ]
  },
  {
   "cell_type": "markdown",
   "id": "9cbfd3bf-2158-46a4-a000-7b68236b874e",
   "metadata": {},
   "source": [
    "Load the `GOOG.csv` dataset and extract the Close value of 2019 to a separate Series, resample it by Business day, and fill the weekend gaps with the value from Friday (hence, forward)."
   ]
  },
  {
   "cell_type": "code",
   "execution_count": 10,
   "id": "7f4580d7-47cd-491b-a21b-f31981e836f0",
   "metadata": {},
   "outputs": [
    {
     "data": {
      "text/html": [
       "<div>\n",
       "<style scoped>\n",
       "    .dataframe tbody tr th:only-of-type {\n",
       "        vertical-align: middle;\n",
       "    }\n",
       "\n",
       "    .dataframe tbody tr th {\n",
       "        vertical-align: top;\n",
       "    }\n",
       "\n",
       "    .dataframe thead th {\n",
       "        text-align: right;\n",
       "    }\n",
       "</style>\n",
       "<table border=\"1\" class=\"dataframe\">\n",
       "  <thead>\n",
       "    <tr style=\"text-align: right;\">\n",
       "      <th></th>\n",
       "      <th>Open</th>\n",
       "      <th>High</th>\n",
       "      <th>Low</th>\n",
       "      <th>Close</th>\n",
       "      <th>Volume</th>\n",
       "    </tr>\n",
       "    <tr>\n",
       "      <th>Date</th>\n",
       "      <th></th>\n",
       "      <th></th>\n",
       "      <th></th>\n",
       "      <th></th>\n",
       "      <th></th>\n",
       "    </tr>\n",
       "  </thead>\n",
       "  <tbody>\n",
       "    <tr>\n",
       "      <th>2004-08-19 16:00:00</th>\n",
       "      <td>50.00</td>\n",
       "      <td>52.03</td>\n",
       "      <td>47.98</td>\n",
       "      <td>50.16</td>\n",
       "      <td>22353092</td>\n",
       "    </tr>\n",
       "    <tr>\n",
       "      <th>2004-08-20 16:00:00</th>\n",
       "      <td>50.74</td>\n",
       "      <td>54.54</td>\n",
       "      <td>50.25</td>\n",
       "      <td>54.15</td>\n",
       "      <td>11429498</td>\n",
       "    </tr>\n",
       "    <tr>\n",
       "      <th>2004-08-23 16:00:00</th>\n",
       "      <td>55.42</td>\n",
       "      <td>56.74</td>\n",
       "      <td>54.52</td>\n",
       "      <td>54.70</td>\n",
       "      <td>9140244</td>\n",
       "    </tr>\n",
       "    <tr>\n",
       "      <th>2004-08-24 16:00:00</th>\n",
       "      <td>55.65</td>\n",
       "      <td>55.80</td>\n",
       "      <td>51.78</td>\n",
       "      <td>52.43</td>\n",
       "      <td>7632224</td>\n",
       "    </tr>\n",
       "    <tr>\n",
       "      <th>2004-08-25 16:00:00</th>\n",
       "      <td>52.48</td>\n",
       "      <td>54.00</td>\n",
       "      <td>51.94</td>\n",
       "      <td>53.00</td>\n",
       "      <td>4599110</td>\n",
       "    </tr>\n",
       "  </tbody>\n",
       "</table>\n",
       "</div>"
      ],
      "text/plain": [
       "                      Open   High    Low  Close    Volume\n",
       "Date                                                     \n",
       "2004-08-19 16:00:00  50.00  52.03  47.98  50.16  22353092\n",
       "2004-08-20 16:00:00  50.74  54.54  50.25  54.15  11429498\n",
       "2004-08-23 16:00:00  55.42  56.74  54.52  54.70   9140244\n",
       "2004-08-24 16:00:00  55.65  55.80  51.78  52.43   7632224\n",
       "2004-08-25 16:00:00  52.48  54.00  51.94  53.00   4599110"
      ]
     },
     "execution_count": 10,
     "metadata": {},
     "output_type": "execute_result"
    }
   ],
   "source": [
    "googdf = pd.read_csv(\"GOOG.csv\", parse_dates=[\"Date\"], dayfirst=True, index_col=\"Date\")\n",
    "googdf.head()"
   ]
  },
  {
   "cell_type": "code",
   "execution_count": 11,
   "id": "dad3d42e-c2d7-49c7-8220-abe954d36b1c",
   "metadata": {},
   "outputs": [
    {
     "data": {
      "text/plain": [
       "Date\n",
       "2019-01-02        NaN\n",
       "2019-01-03    1045.85\n",
       "2019-01-04    1016.06\n",
       "2019-01-07    1070.71\n",
       "2019-01-08    1068.39\n",
       "               ...   \n",
       "2019-12-25    1343.56\n",
       "2019-12-26    1343.56\n",
       "2019-12-27    1360.40\n",
       "2019-12-30    1351.89\n",
       "2019-12-31    1336.14\n",
       "Freq: B, Name: Close, Length: 260, dtype: float64"
      ]
     },
     "execution_count": 11,
     "metadata": {},
     "output_type": "execute_result"
    }
   ],
   "source": [
    "close2019 = googdf.loc[googdf.index.year==2019][\"Close\"].resample(\"B\").fillna(method =\"ffill\")\n",
    "close2019"
   ]
  },
  {
   "cell_type": "markdown",
   "id": "e5b18be4-8469-46df-ada6-fe319aeed13c",
   "metadata": {},
   "source": [
    "Plot the raw series, the monthly mean including markers (to easily identify the points), and a rolling mean of 20 business days, all in the same axes.\n"
   ]
  },
  {
   "cell_type": "code",
   "execution_count": 12,
   "id": "43b34a39-cd37-4b7d-bfee-aa79ef069904",
   "metadata": {},
   "outputs": [],
   "source": [
    "import matplotlib.pyplot as plt\n",
    "import seaborn as sns\n",
    "sns.set()"
   ]
  },
  {
   "cell_type": "code",
   "execution_count": 13,
   "id": "4dec0229-a179-47f4-843b-3c7852676de2",
   "metadata": {},
   "outputs": [
    {
     "data": {
      "text/plain": [
       "<matplotlib.legend.Legend at 0x7ff6fe6df8e0>"
      ]
     },
     "execution_count": 13,
     "metadata": {},
     "output_type": "execute_result"
    },
    {
     "data": {
      "image/png": "[encoded data removed]",
      "text/plain": [
       "<Figure size 864x432 with 1 Axes>"
      ]
     },
     "metadata": {},
     "output_type": "display_data"
    }
   ],
   "source": [
    "fig, ax = plt.subplots(figsize = (12,6))\n",
    "\n",
    "close2019.plot(linestyle = \"--\", label = \"orgiginal\", ax=ax)\n",
    "close2019.resample(\"M\").mean().plot(label=\"monthly mean\",linewidth=3, marker=\"o\", ax=ax)\n",
    "close2019.rolling(20).mean().plot(label=\"rolling mean\",linewidth=3, color=\"b\", ax=ax)\n",
    "plt.legend()"
   ]
  }
 ],
 "metadata": {
  "kernelspec": {
   "display_name": "Python 3",
   "language": "python",
   "name": "python3"
  },
  "language_info": {
   "codemirror_mode": {
    "name": "ipython",
    "version": 3
   },
   "file_extension": ".py",
   "mimetype": "text/x-python",
   "name": "python",
   "nbconvert_exporter": "python",
   "pygments_lexer": "ipython3",
   "version": "3.8.8"
  }
 },
 "nbformat": 4,
 "nbformat_minor": 5
}
