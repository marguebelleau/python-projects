{
 "cells": [
  {
   "cell_type": "markdown",
   "id": "be4bb573-d24e-41fa-87f0-8211b6c25542",
   "metadata": {},
   "source": [
    "## Question 1:\n",
    "Save `wine.json` to disk and load it in Python. How many wine reviews are included in the dataset?"
   ]
  },
  {
   "cell_type": "code",
   "execution_count": 1,
   "id": "3a3fed97-7f2f-4e8a-96ba-0761a4b59b72",
   "metadata": {
    "tags": []
   },
   "outputs": [
    {
     "name": "stdout",
     "output_type": "stream",
     "text": [
      "They are 129971 wine reviews\n"
     ]
    }
   ],
   "source": [
    "import json \n",
    "\n",
    "with open(\"wine.json\") as fh:\n",
    "    winedata = json.load(fh)\n",
    "print(\"They are\", len(winedata), \"wine reviews\")"
   ]
  },
  {
   "cell_type": "code",
   "execution_count": 2,
   "id": "006df93b-ddac-4366-9d6b-c59cb8ff71c7",
   "metadata": {
    "scrolled": true,
    "tags": []
   },
   "outputs": [],
   "source": [
    "#winedata"
   ]
  },
  {
   "cell_type": "markdown",
   "id": "3becd0c2-8b3a-4ab3-b41b-588798c0dc71",
   "metadata": {},
   "source": [
    "## Question 2: \n",
    "Add a new `\"length\"` key to each review in the list, containing the number of words in the `\"description\"` value.\n",
    "\n",
    "\n",
    "\n",
    "For example, a review with the following description:\n",
    "\n",
    "\"Very strong taste like apple and cinnamon\"\n",
    "\n",
    "should have a `\"length\"` key with a value of 7.\n",
    "\n",
    "\n",
    "\n",
    "What's the length of the last review?"
   ]
  },
  {
   "cell_type": "code",
   "execution_count": 3,
   "id": "ea7435f7-90f1-4354-b0be-c58dc87bafd6",
   "metadata": {},
   "outputs": [],
   "source": [
    "def wine_length(winedata):\n",
    "    \n",
    "    for wine in winedata: \n",
    "        wine[\"length\"]= len(wine[\"description\"].split())\n",
    "    \n",
    "    return winedata"
   ]
  },
  {
   "cell_type": "code",
   "execution_count": 4,
   "id": "ab4d7caf-8f01-46e4-9c4f-edc6321e3d81",
   "metadata": {},
   "outputs": [
    {
     "name": "stdout",
     "output_type": "stream",
     "text": [
      "The length of the last review is 27 words\n"
     ]
    }
   ],
   "source": [
    "winedata = wine_length(winedata)\n",
    "print(\"The length of the last review is\", winedata[-1][\"length\"],\"words\")"
   ]
  },
  {
   "cell_type": "markdown",
   "id": "337dfbd2-4979-4d42-9530-45bf19757466",
   "metadata": {},
   "source": [
    "## Question 3: \n",
    "How many different countries have wines reviewed in the dataset?"
   ]
  },
  {
   "cell_type": "code",
   "execution_count": 5,
   "id": "e9de4552-5387-46d4-b55c-7a806efc3e9a",
   "metadata": {
    "tags": []
   },
   "outputs": [
    {
     "name": "stdout",
     "output_type": "stream",
     "text": [
      "43 countries have wines reviewed\n"
     ]
    }
   ],
   "source": [
    "different_countries = []\n",
    "\n",
    "for reviews in winedata:\n",
    "    if reviews[\"country\"] is not None: \n",
    "        \n",
    "        if reviews[\"country\"]not in different_countries:\n",
    "            different_countries.append(reviews[\"country\"])\n",
    "            \n",
    "print(len(different_countries), \"countries have wines reviewed\")\n"
   ]
  },
  {
   "cell_type": "markdown",
   "id": "6a632e15-144c-44df-9815-cf6f0aef46aa",
   "metadata": {},
   "source": [
    "## Question 4:\n",
    "Build a dictionary with the following structure:\n",
    "\n",
    "\n",
    "\n",
    "{country: number of wines reviewed coming from that country}\n",
    "\n",
    "\n",
    "\n",
    "For example:\n",
    "\n",
    "\n",
    "\n",
    "{\"Spain\": 3, \"Italy\": 2}\n",
    "\n",
    "\n",
    "\n",
    "Paste the full dictionary as the answer."
   ]
  },
  {
   "cell_type": "code",
   "execution_count": 12,
   "id": "333ad8a0-74f3-4e55-b54e-89cd80f40d94",
   "metadata": {
    "scrolled": true,
    "tags": []
   },
   "outputs": [
    {
     "data": {
      "text/plain": [
       "{'Italy': 19540,\n",
       " 'Portugal': 5691,\n",
       " 'US': 54504,\n",
       " 'Spain': 6645,\n",
       " 'France': 22093,\n",
       " 'Germany': 2165,\n",
       " 'Argentina': 3800,\n",
       " 'Chile': 4472,\n",
       " 'Australia': 2329,\n",
       " 'Austria': 3345,\n",
       " 'South Africa': 1401,\n",
       " 'New Zealand': 1419,\n",
       " 'Israel': 505,\n",
       " 'Hungary': 146,\n",
       " 'Greece': 466,\n",
       " 'Romania': 120,\n",
       " 'Mexico': 70,\n",
       " 'Canada': 257,\n",
       " 'Turkey': 90,\n",
       " 'Czech Republic': 12,\n",
       " 'Slovenia': 87,\n",
       " 'Luxembourg': 6,\n",
       " 'Croatia': 73,\n",
       " 'Georgia': 86,\n",
       " 'Uruguay': 109,\n",
       " 'England': 74,\n",
       " 'Lebanon': 35,\n",
       " 'Serbia': 12,\n",
       " 'Brazil': 52,\n",
       " 'Moldova': 59,\n",
       " 'Morocco': 28,\n",
       " 'Peru': 16,\n",
       " 'India': 9,\n",
       " 'Bulgaria': 141,\n",
       " 'Cyprus': 11,\n",
       " 'Armenia': 2,\n",
       " 'Switzerland': 7,\n",
       " 'Bosnia and Herzegovina': 2,\n",
       " 'Ukraine': 14,\n",
       " 'Slovakia': 1,\n",
       " 'Macedonia': 12,\n",
       " 'China': 1,\n",
       " 'Egypt': 1}"
      ]
     },
     "execution_count": 12,
     "metadata": {},
     "output_type": "execute_result"
    }
   ],
   "source": [
    "country_count = {}\n",
    "\n",
    "for reviews in winedata:\n",
    "    if reviews[\"country\"] is not None: \n",
    "        \n",
    "        if reviews[\"country\"] not in country_count:\n",
    "            country_count[reviews[\"country\"]] = 1\n",
    "        else: \n",
    "            country_count[reviews[\"country\"]] += 1\n",
    "\n",
    "country_count"
   ]
  },
  {
   "cell_type": "markdown",
   "id": "dfbaaba2-8a46-44ee-ad44-58bd8f35b2fa",
   "metadata": {},
   "source": [
    "## Question 5:\n",
    "Build a dictionary with the following structure:\n",
    "\n",
    "\n",
    "\n",
    "{country: average points of wines coming from that country}\n",
    "\n",
    "\n",
    "\n",
    "For example:\n",
    "\n",
    "\n",
    "\n",
    "{\"Spain\": 9.25, \"Italy\": 9.5}\n",
    "\n",
    "\n",
    "\n",
    "Paste the full dictionary as the answer."
   ]
  },
  {
   "cell_type": "code",
   "execution_count": 7,
   "id": "5174032a-e49d-4f88-8be8-b1f768c5ee4c",
   "metadata": {
    "scrolled": true,
    "tags": []
   },
   "outputs": [
    {
     "data": {
      "text/plain": [
       "{'Italy': 88.56,\n",
       " 'Portugal': 88.25,\n",
       " 'US': 88.56,\n",
       " 'Spain': 87.29,\n",
       " 'France': 88.85,\n",
       " 'Germany': 89.85,\n",
       " 'Argentina': 86.71,\n",
       " 'Chile': 86.49,\n",
       " 'Australia': 88.58,\n",
       " 'Austria': 90.1,\n",
       " 'South Africa': 88.06,\n",
       " 'New Zealand': 88.3,\n",
       " 'Israel': 88.47,\n",
       " 'Hungary': 89.19,\n",
       " 'Greece': 87.28,\n",
       " 'Romania': 86.4,\n",
       " 'Mexico': 85.26,\n",
       " 'Canada': 89.37,\n",
       " 'Turkey': 88.09,\n",
       " 'Czech Republic': 87.25,\n",
       " 'Slovenia': 88.07,\n",
       " 'Luxembourg': 88.67,\n",
       " 'Croatia': 87.22,\n",
       " 'Georgia': 87.69,\n",
       " 'Uruguay': 86.75,\n",
       " 'England': 91.58,\n",
       " 'Lebanon': 87.69,\n",
       " 'Serbia': 87.5,\n",
       " 'Brazil': 84.67,\n",
       " 'Moldova': 87.2,\n",
       " 'Morocco': 88.57,\n",
       " 'Peru': 83.56,\n",
       " 'India': 90.22,\n",
       " 'Bulgaria': 87.94,\n",
       " 'Cyprus': 87.18,\n",
       " 'Armenia': 87.5,\n",
       " 'Switzerland': 88.57,\n",
       " 'Bosnia and Herzegovina': 86.5,\n",
       " 'Ukraine': 84.07,\n",
       " 'Slovakia': 87.0,\n",
       " 'Macedonia': 86.83,\n",
       " 'China': 89.0,\n",
       " 'Egypt': 84.0}"
      ]
     },
     "execution_count": 7,
     "metadata": {},
     "output_type": "execute_result"
    }
   ],
   "source": [
    "avg_point = {}\n",
    "\n",
    "for country in country_count:\n",
    "    point_count = 0\n",
    "    \n",
    "    for review in winedata: \n",
    "        if review[\"country\"] == country:\n",
    "            point_count+=(int(review[\"points\"]))\n",
    "            \n",
    "    avg_point[country] = round(point_count/country_count[country],2)\n",
    "\n",
    "avg_point"
   ]
  },
  {
   "cell_type": "markdown",
   "id": "423e0215-a59b-4833-825f-09253b2db5f7",
   "metadata": {},
   "source": [
    "## Question 6: \n",
    "What's the country that produces the wines with the highest average rating?"
   ]
  },
  {
   "cell_type": "code",
   "execution_count": 8,
   "id": "e0ceadfc-7721-4444-aab7-761d3cc7c97a",
   "metadata": {},
   "outputs": [
    {
     "name": "stdout",
     "output_type": "stream",
     "text": [
      "England is the country that produces the wine with the highest average rating, that is: 91.58\n"
     ]
    }
   ],
   "source": [
    "maxvalue = max(avg_point.values())\n",
    "\n",
    "for key,value in avg_point.items():\n",
    "    if value == maxvalue:\n",
    "        country = key\n",
    "        \n",
    "print(country,\"is the country that produces the wine with the highest average rating, that is:\", maxvalue)      "
   ]
  },
  {
   "cell_type": "markdown",
   "id": "99163d09-1329-4314-8892-e84976362d2e",
   "metadata": {},
   "source": [
    "## Question 7: \n",
    "Update each wine's description by adding at the end of each description the following piece of text:\n",
    "\n",
    "\n",
    "\n",
    "\"This is a {designation} from {country} that scored {points} points\"\n",
    "\n",
    "\n",
    "\n",
    "What is the resulting description of the last review?"
   ]
  },
  {
   "cell_type": "code",
   "execution_count": 9,
   "id": "cfc3d99c-8141-44c1-b692-1e1f496f9433",
   "metadata": {},
   "outputs": [],
   "source": [
    "def longer_description(winedata):\n",
    "    \n",
    "    for review in winedata:\n",
    "        piece_of_text = f' This is a {review[\"designation\"]} from {review[\"country\"]} that scored {review[\"points\"]} points'\n",
    "        \n",
    "        if piece_of_text in review[\"description\"]: \n",
    "            pass\n",
    "        else: \n",
    "            review[\"description\"] += piece_of_text\n",
    "            \n",
    "        return winedata"
   ]
  },
  {
   "cell_type": "code",
   "execution_count": 10,
   "id": "28c60758-8fbd-4bd6-941b-786e3051b54b",
   "metadata": {},
   "outputs": [
    {
     "name": "stdout",
     "output_type": "stream",
     "text": [
      "Big, rich and off-dry, this is powered by intense spiciness and rounded texture. Lychees dominate the fruit profile, giving an opulent feel to the aftertaste. Drink now.\n"
     ]
    }
   ],
   "source": [
    "winedata = longer_description(winedata)\n",
    "print( winedata[-1][\"description\"])"
   ]
  },
  {
   "cell_type": "markdown",
   "id": "8c554bc2-719f-4456-8541-7a9479751125",
   "metadata": {},
   "source": [
    "## Question 8: \n",
    "What's the proportion of wine tasters that have a Twitter account?\n"
   ]
  },
  {
   "cell_type": "code",
   "execution_count": 11,
   "id": "fc5ad186-25a0-4b4f-8243-d5359a5d1744",
   "metadata": {
    "tags": []
   },
   "outputs": [
    {
     "name": "stdout",
     "output_type": "stream",
     "text": [
      "84.21 % is the proportion of wine tasters that have a Twitter account\n"
     ]
    }
   ],
   "source": [
    "different_tasters = []\n",
    "different_twitter_accounts = []\n",
    "\n",
    "for review in winedata: \n",
    "    if review[\"taster_name\"] not in different_tasters and review[\"taster_name\"] is not None: \n",
    "        different_tasters.append(review[\"taster_name\"])\n",
    "        \n",
    "        if review[\"taster_twitter_handle\"] is not None:\n",
    "            different_twitter_accounts.append(review[\"taster_twitter_handle\"])\n",
    "            proportion = round((len(different_twitter_accounts)/len(different_tasters)*100),2)\n",
    "            \n",
    "print(proportion,\"% is the proportion of wine tasters that have a Twitter account\")"
   ]
  }
 ],
 "metadata": {
  "kernelspec": {
   "display_name": "Python 3",
   "language": "python",
   "name": "python3"
  },
  "language_info": {
   "codemirror_mode": {
    "name": "ipython",
    "version": 3
   },
   "file_extension": ".py",
   "mimetype": "text/x-python",
   "name": "python",
   "nbconvert_exporter": "python",
   "pygments_lexer": "ipython3",
   "version": "3.8.8"
  }
 },
 "nbformat": 4,
 "nbformat_minor": 5
}
