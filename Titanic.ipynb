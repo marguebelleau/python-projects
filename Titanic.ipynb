{
 "cells": [
  {
   "cell_type": "markdown",
   "id": "6ae2d78a-f390-47df-a62b-bd1bced40edc",
   "metadata": {},
   "source": [
    "## Part 1: basic exploratory analysis \n",
    "\n",
    ">Maximum points for usage of pandas methods, brevity of code, and avoidance of `for` loops and duplicated/copy-pasted code."
   ]
  },
  {
   "cell_type": "markdown",
   "id": "54eb984d-3b07-4ed6-8101-1216a8b48733",
   "metadata": {},
   "source": [
    "### Question1: \n",
    ">Read the dataset correctly using pandas, using an appropriate column as index. What is the PassengerId of \"Mr. Robert William Norman\"?"
   ]
  },
  {
   "cell_type": "code",
   "execution_count": 1,
   "id": "351ed945-b703-4543-8c8d-4488ee6bd542",
   "metadata": {},
   "outputs": [],
   "source": [
    "import pandas as pd"
   ]
  },
  {
   "cell_type": "code",
   "execution_count": 2,
   "id": "98c895b0-ac04-4bc4-9fe1-acb011171f11",
   "metadata": {},
   "outputs": [
    {
     "data": {
      "text/html": [
       "<div>\n",
       "<style scoped>\n",
       "    .dataframe tbody tr th:only-of-type {\n",
       "        vertical-align: middle;\n",
       "    }\n",
       "\n",
       "    .dataframe tbody tr th {\n",
       "        vertical-align: top;\n",
       "    }\n",
       "\n",
       "    .dataframe thead th {\n",
       "        text-align: right;\n",
       "    }\n",
       "</style>\n",
       "<table border=\"1\" class=\"dataframe\">\n",
       "  <thead>\n",
       "    <tr style=\"text-align: right;\">\n",
       "      <th></th>\n",
       "      <th>Survived</th>\n",
       "      <th>Pclass</th>\n",
       "      <th>Name</th>\n",
       "      <th>Sex</th>\n",
       "      <th>Age</th>\n",
       "      <th>SibSp</th>\n",
       "      <th>Parch</th>\n",
       "      <th>Ticket</th>\n",
       "      <th>Fare</th>\n",
       "      <th>Cabin</th>\n",
       "      <th>Embarked</th>\n",
       "    </tr>\n",
       "    <tr>\n",
       "      <th>PassengerId</th>\n",
       "      <th></th>\n",
       "      <th></th>\n",
       "      <th></th>\n",
       "      <th></th>\n",
       "      <th></th>\n",
       "      <th></th>\n",
       "      <th></th>\n",
       "      <th></th>\n",
       "      <th></th>\n",
       "      <th></th>\n",
       "      <th></th>\n",
       "    </tr>\n",
       "  </thead>\n",
       "  <tbody>\n",
       "    <tr>\n",
       "      <th>1</th>\n",
       "      <td>0</td>\n",
       "      <td>3</td>\n",
       "      <td>Mr. Owen Harris</td>\n",
       "      <td>male</td>\n",
       "      <td>22.0</td>\n",
       "      <td>1</td>\n",
       "      <td>0</td>\n",
       "      <td>A/5 21171</td>\n",
       "      <td>7.2500</td>\n",
       "      <td>NaN</td>\n",
       "      <td>S</td>\n",
       "    </tr>\n",
       "    <tr>\n",
       "      <th>2</th>\n",
       "      <td>1</td>\n",
       "      <td>1</td>\n",
       "      <td>Mrs. John Bradley (Florence Briggs Thayer)</td>\n",
       "      <td>female</td>\n",
       "      <td>38.0</td>\n",
       "      <td>1</td>\n",
       "      <td>0</td>\n",
       "      <td>PC 17599</td>\n",
       "      <td>71.2833</td>\n",
       "      <td>C85</td>\n",
       "      <td>C</td>\n",
       "    </tr>\n",
       "    <tr>\n",
       "      <th>3</th>\n",
       "      <td>1</td>\n",
       "      <td>3</td>\n",
       "      <td>Miss. Laina</td>\n",
       "      <td>female</td>\n",
       "      <td>26.0</td>\n",
       "      <td>0</td>\n",
       "      <td>0</td>\n",
       "      <td>STON/O2. 3101282</td>\n",
       "      <td>7.9250</td>\n",
       "      <td>NaN</td>\n",
       "      <td>S</td>\n",
       "    </tr>\n",
       "    <tr>\n",
       "      <th>4</th>\n",
       "      <td>1</td>\n",
       "      <td>1</td>\n",
       "      <td>Mrs. Jacques Heath (Lily May Peel)</td>\n",
       "      <td>female</td>\n",
       "      <td>35.0</td>\n",
       "      <td>1</td>\n",
       "      <td>0</td>\n",
       "      <td>113803</td>\n",
       "      <td>53.1000</td>\n",
       "      <td>C123</td>\n",
       "      <td>S</td>\n",
       "    </tr>\n",
       "    <tr>\n",
       "      <th>5</th>\n",
       "      <td>0</td>\n",
       "      <td>3</td>\n",
       "      <td>Mr. William Henry</td>\n",
       "      <td>male</td>\n",
       "      <td>35.0</td>\n",
       "      <td>0</td>\n",
       "      <td>0</td>\n",
       "      <td>373450</td>\n",
       "      <td>8.0500</td>\n",
       "      <td>NaN</td>\n",
       "      <td>S</td>\n",
       "    </tr>\n",
       "  </tbody>\n",
       "</table>\n",
       "</div>"
      ],
      "text/plain": [
       "             Survived  Pclass                                        Name  \\\n",
       "PassengerId                                                                 \n",
       "1                   0       3                             Mr. Owen Harris   \n",
       "2                   1       1  Mrs. John Bradley (Florence Briggs Thayer)   \n",
       "3                   1       3                                 Miss. Laina   \n",
       "4                   1       1          Mrs. Jacques Heath (Lily May Peel)   \n",
       "5                   0       3                           Mr. William Henry   \n",
       "\n",
       "                Sex   Age  SibSp  Parch            Ticket     Fare Cabin  \\\n",
       "PassengerId                                                                \n",
       "1              male  22.0      1      0         A/5 21171   7.2500   NaN   \n",
       "2            female  38.0      1      0          PC 17599  71.2833   C85   \n",
       "3            female  26.0      0      0  STON/O2. 3101282   7.9250   NaN   \n",
       "4            female  35.0      1      0            113803  53.1000  C123   \n",
       "5              male  35.0      0      0            373450   8.0500   NaN   \n",
       "\n",
       "            Embarked  \n",
       "PassengerId           \n",
       "1                  S  \n",
       "2                  C  \n",
       "3                  S  \n",
       "4                  S  \n",
       "5                  S  "
      ]
     },
     "execution_count": 2,
     "metadata": {},
     "output_type": "execute_result"
    }
   ],
   "source": [
    "#chose the PassengerId as index as it is identifying all passengers from 1 to the 891.\n",
    "\n",
    "df = pd.read_csv(\"titanic.csv\").set_index(\"PassengerId\")\n",
    "df.head()"
   ]
  },
  {
   "cell_type": "code",
   "execution_count": 3,
   "id": "5e306088-3143-4657-b185-d8d8683264ae",
   "metadata": {},
   "outputs": [
    {
     "name": "stdout",
     "output_type": "stream",
     "text": [
      "The passengerId of Mr. Robert William Norman is: 235\n"
     ]
    }
   ],
   "source": [
    "norman_id = df.loc[df[\"Name\"] == \"Mr. Robert William Norman\"]\n",
    "print (\"The passengerId of Mr. Robert William Norman is: \" + str(norman_id.index[0]))"
   ]
  },
  {
   "cell_type": "markdown",
   "id": "cda688f4-b22b-4e33-9839-ce64f0cb2471",
   "metadata": {},
   "source": [
    "### Question2:\n",
    ">Compute the percentage of survivors out of total number of passengers and the percentage of men and women out of total number of passengers."
   ]
  },
  {
   "cell_type": "markdown",
   "id": "323652e1-4a5e-4489-baee-5f84b722cd08",
   "metadata": {},
   "source": [
    "#### Question 2.1: percentage of survivors "
   ]
  },
  {
   "cell_type": "code",
   "execution_count": 4,
   "id": "543383c0-6e79-44ab-b5db-f1c20848efd7",
   "metadata": {},
   "outputs": [
    {
     "data": {
      "text/plain": [
       "2"
      ]
     },
     "execution_count": 4,
     "metadata": {},
     "output_type": "execute_result"
    }
   ],
   "source": [
    "#Checking for missing values. Checking if it's only binary (1 or 0) data\n",
    "\n",
    "df[\"Survived\"].nunique()"
   ]
  },
  {
   "cell_type": "code",
   "execution_count": 5,
   "id": "71f21e93-9b8c-4aae-a61e-293bb3cb2599",
   "metadata": {},
   "outputs": [
    {
     "name": "stdout",
     "output_type": "stream",
     "text": [
      "38.38 % of the passengers survived.\n"
     ]
    }
   ],
   "source": [
    "#As survivors are marked with 1, computing the mean of the column \"Survived\" would give us the proportion of survivors.\n",
    "\n",
    "proportion_survivors = round(df[\"Survived\"].mean()*100,2)\n",
    "print(proportion_survivors, \"% of the passengers survived.\")"
   ]
  },
  {
   "cell_type": "markdown",
   "id": "8c6374cc-83af-4612-9788-9cdd58b44847",
   "metadata": {},
   "source": [
    "#### Question 2.2: percentage of men and women"
   ]
  },
  {
   "cell_type": "code",
   "execution_count": 81,
   "id": "1006b4e2-faeb-4001-bd26-33c56bb5c7c2",
   "metadata": {},
   "outputs": [
    {
     "data": {
      "text/plain": [
       "2"
      ]
     },
     "execution_count": 81,
     "metadata": {},
     "output_type": "execute_result"
    }
   ],
   "source": [
    "#Checking if it's only \"male\" or \"female\" data. Checking for null values.\n",
    "\n",
    "df[\"Sex\"].nunique()"
   ]
  },
  {
   "cell_type": "code",
   "execution_count": 7,
   "id": "497d10fb-940c-47e4-9d3d-a08560aacd93",
   "metadata": {},
   "outputs": [
    {
     "name": "stdout",
     "output_type": "stream",
     "text": [
      "On the titanic the percentage of men was: 64.76 %\n"
     ]
    }
   ],
   "source": [
    "total_passengers = len(df)\n",
    "male_passengers = len(df.loc[df[\"Sex\"]==\"male\"])\n",
    "\n",
    "percentage_male = round((male_passengers/total_passengers)*100,2)\n",
    "\n",
    "print(\"On the titanic the percentage of men was:\", percentage_male, \"%\")"
   ]
  },
  {
   "cell_type": "code",
   "execution_count": 8,
   "id": "f508ee3e-f3b3-4139-b9ce-1fa21a7a9441",
   "metadata": {},
   "outputs": [
    {
     "name": "stdout",
     "output_type": "stream",
     "text": [
      "On the titanic the percentage of women was: 35.24 %\n"
     ]
    }
   ],
   "source": [
    "female_passengers = len(df.loc[~(df[\"Sex\"]==\"male\")])\n",
    "\n",
    "percentage_female = round((female_passengers/total_passengers)*100,2)\n",
    "\n",
    "print(\"On the titanic the percentage of women was:\", percentage_female, \"%\")"
   ]
  },
  {
   "cell_type": "markdown",
   "id": "14f168bf-935f-4f69-bd9c-82f515aa85d8",
   "metadata": {},
   "source": [
    "### Question3:\n",
    ">Compute the percentage of survivors by sex (i.e. the percentage of male passengers that survived and female passengers that survived) and the sex distribution of survivors (i.e. percentage of survivors that were men and percentage of survivors that were women)."
   ]
  },
  {
   "cell_type": "markdown",
   "id": "0638caae-b1a6-434d-abea-7bd68da12ba5",
   "metadata": {},
   "source": [
    "#### Question 3.1: percentage of survivors by sex "
   ]
  },
  {
   "cell_type": "code",
   "execution_count": 9,
   "id": "a289bc14-7b95-419d-ad79-e760c3ab7630",
   "metadata": {},
   "outputs": [
    {
     "data": {
      "text/html": [
       "<div>\n",
       "<style scoped>\n",
       "    .dataframe tbody tr th:only-of-type {\n",
       "        vertical-align: middle;\n",
       "    }\n",
       "\n",
       "    .dataframe tbody tr th {\n",
       "        vertical-align: top;\n",
       "    }\n",
       "\n",
       "    .dataframe thead th {\n",
       "        text-align: right;\n",
       "    }\n",
       "</style>\n",
       "<table border=\"1\" class=\"dataframe\">\n",
       "  <thead>\n",
       "    <tr style=\"text-align: right;\">\n",
       "      <th></th>\n",
       "      <th>Survived</th>\n",
       "    </tr>\n",
       "    <tr>\n",
       "      <th>Sex</th>\n",
       "      <th></th>\n",
       "    </tr>\n",
       "  </thead>\n",
       "  <tbody>\n",
       "    <tr>\n",
       "      <th>female</th>\n",
       "      <td>74.20</td>\n",
       "    </tr>\n",
       "    <tr>\n",
       "      <th>male</th>\n",
       "      <td>18.89</td>\n",
       "    </tr>\n",
       "  </tbody>\n",
       "</table>\n",
       "</div>"
      ],
      "text/plain": [
       "        Survived\n",
       "Sex             \n",
       "female     74.20\n",
       "male       18.89"
      ]
     },
     "execution_count": 9,
     "metadata": {},
     "output_type": "execute_result"
    }
   ],
   "source": [
    "#The following would give the percentage of survivor by sex but in a pandas frame\n",
    "\n",
    "round(df.groupby(\"Sex\").agg({\"Survived\":\"mean\"})*100,2)"
   ]
  },
  {
   "cell_type": "code",
   "execution_count": 10,
   "id": "7b6f5889-4153-4e80-8f95-676330a16443",
   "metadata": {},
   "outputs": [
    {
     "name": "stdout",
     "output_type": "stream",
     "text": [
      "The percentage of women that survived is: 74.2 %, and the percentage of men that survived is: 18.89 %.\n"
     ]
    }
   ],
   "source": [
    "#The \"manual\" way to get this percentage could be the following\n",
    "\n",
    "men_that_survived = round(df.loc[df[\"Sex\"] == \"male\", \"Survived\"].mean()*100,2)\n",
    "women_that_survived = round(df.loc[df[\"Sex\"] == \"female\", \"Survived\"].mean()*100,2)\n",
    "\n",
    "print(\"The percentage of women that survived is:\", women_that_survived, \"%, and the percentage of men that survived is:\", men_that_survived, \"%.\")"
   ]
  },
  {
   "cell_type": "markdown",
   "id": "42e9ae97-744a-438f-a549-96deff243ce7",
   "metadata": {},
   "source": [
    "#### Question 3.2: sex distribution of survivors "
   ]
  },
  {
   "cell_type": "code",
   "execution_count": 11,
   "id": "e2274e31-70e1-4200-8ef2-4ab80a047106",
   "metadata": {},
   "outputs": [
    {
     "data": {
      "text/plain": [
       "342"
      ]
     },
     "execution_count": 11,
     "metadata": {},
     "output_type": "execute_result"
    }
   ],
   "source": [
    "#computing the total number of survivors \n",
    "\n",
    "survivors = len(df.loc[df[\"Survived\"] == 1])\n",
    "survivors"
   ]
  },
  {
   "cell_type": "code",
   "execution_count": 12,
   "id": "810bea03-e01a-4292-b482-7f2b32ffe2eb",
   "metadata": {
    "tags": []
   },
   "outputs": [
    {
     "name": "stdout",
     "output_type": "stream",
     "text": [
      "Out of all the survivors, 31.87 % were men and 68.13 % were women.\n"
     ]
    }
   ],
   "source": [
    "#to calculate the percentage of male and female that survived\n",
    "\n",
    "male_distribution = round((len(df.loc[(df[\"Sex\"] == \"male\") & (df[\"Survived\"] == 1)])/ survivors)*100,2)\n",
    "female_distribution = round((len(df.loc[(df[\"Sex\"] == \"female\") & (df[\"Survived\"] == 1)])/ survivors)*100,2)\n",
    "\n",
    "print(\"Out of all the survivors,\", male_distribution, \"% were men and\", female_distribution, \"% were women.\")\n"
   ]
  },
  {
   "cell_type": "markdown",
   "id": "a02aa6cb-9bbc-4240-bbb5-aaa23ad03184",
   "metadata": {},
   "source": [
    "### Question4: \n",
    ">Display in a 2 x 2 DataFrame the probability of being male/female and surviving/not surviving.\n",
    "\n",
    "\n",
    ">Notice that the sum of all values in the table above should be 1 (or 100 %)."
   ]
  },
  {
   "cell_type": "code",
   "execution_count": 13,
   "id": "40429f8d-9017-43be-8c84-cb0af71fb6d9",
   "metadata": {},
   "outputs": [
    {
     "data": {
      "text/plain": [
       "891"
      ]
     },
     "execution_count": 13,
     "metadata": {},
     "output_type": "execute_result"
    }
   ],
   "source": [
    "#checking if the length of Name is the same as the overall dataset --> yes it is \n",
    "len(df[\"Name\"])"
   ]
  },
  {
   "cell_type": "code",
   "execution_count": 14,
   "id": "088cd079-5162-45fb-92b0-c7422a43f21f",
   "metadata": {},
   "outputs": [
    {
     "data": {
      "text/html": [
       "<div>\n",
       "<style scoped>\n",
       "    .dataframe tbody tr th:only-of-type {\n",
       "        vertical-align: middle;\n",
       "    }\n",
       "\n",
       "    .dataframe tbody tr th {\n",
       "        vertical-align: top;\n",
       "    }\n",
       "\n",
       "    .dataframe thead th {\n",
       "        text-align: right;\n",
       "    }\n",
       "</style>\n",
       "<table border=\"1\" class=\"dataframe\">\n",
       "  <thead>\n",
       "    <tr style=\"text-align: right;\">\n",
       "      <th>Survived</th>\n",
       "      <th>0</th>\n",
       "      <th>1</th>\n",
       "    </tr>\n",
       "    <tr>\n",
       "      <th>Sex</th>\n",
       "      <th></th>\n",
       "      <th></th>\n",
       "    </tr>\n",
       "  </thead>\n",
       "  <tbody>\n",
       "    <tr>\n",
       "      <th>female</th>\n",
       "      <td>0.09</td>\n",
       "      <td>0.26</td>\n",
       "    </tr>\n",
       "    <tr>\n",
       "      <th>male</th>\n",
       "      <td>0.53</td>\n",
       "      <td>0.12</td>\n",
       "    </tr>\n",
       "  </tbody>\n",
       "</table>\n",
       "</div>"
      ],
      "text/plain": [
       "Survived     0     1\n",
       "Sex                 \n",
       "female    0.09  0.26\n",
       "male      0.53  0.12"
      ]
     },
     "execution_count": 14,
     "metadata": {},
     "output_type": "execute_result"
    }
   ],
   "source": [
    "#We can use Name as a \"counter\" here\n",
    "\n",
    "df_survirors_by_sex = round(df.pivot_table (\n",
    "    index=\"Sex\",\n",
    "    columns=\"Survived\", \n",
    "    aggfunc=\"count\"\n",
    ")[\"Name\"]/total_passengers,2)\n",
    "\n",
    "df_survirors_by_sex"
   ]
  },
  {
   "cell_type": "markdown",
   "id": "32a15f7c-a387-43ca-b612-b61094754c96",
   "metadata": {},
   "source": [
    "### Question5: \n",
    ">Display in a DataFrame the probability of survival/not survival of all combinations of sex and class.\n",
    "\n",
    ">Notice that the sum of all values in the table above should be 1 (or 100 %)."
   ]
  },
  {
   "cell_type": "code",
   "execution_count": 15,
   "id": "d9a27203-fc3e-4651-bf4d-bfb96f18c81d",
   "metadata": {
    "tags": []
   },
   "outputs": [
    {
     "data": {
      "text/html": [
       "<div>\n",
       "<style scoped>\n",
       "    .dataframe tbody tr th:only-of-type {\n",
       "        vertical-align: middle;\n",
       "    }\n",
       "\n",
       "    .dataframe tbody tr th {\n",
       "        vertical-align: top;\n",
       "    }\n",
       "\n",
       "    .dataframe thead th {\n",
       "        text-align: right;\n",
       "    }\n",
       "</style>\n",
       "<table border=\"1\" class=\"dataframe\">\n",
       "  <thead>\n",
       "    <tr style=\"text-align: right;\">\n",
       "      <th></th>\n",
       "      <th>Survived</th>\n",
       "      <th>0</th>\n",
       "      <th>1</th>\n",
       "    </tr>\n",
       "    <tr>\n",
       "      <th>Sex</th>\n",
       "      <th>Pclass</th>\n",
       "      <th></th>\n",
       "      <th></th>\n",
       "    </tr>\n",
       "  </thead>\n",
       "  <tbody>\n",
       "    <tr>\n",
       "      <th rowspan=\"3\" valign=\"top\">female</th>\n",
       "      <th>1</th>\n",
       "      <td>0.00</td>\n",
       "      <td>0.10</td>\n",
       "    </tr>\n",
       "    <tr>\n",
       "      <th>2</th>\n",
       "      <td>0.01</td>\n",
       "      <td>0.08</td>\n",
       "    </tr>\n",
       "    <tr>\n",
       "      <th>3</th>\n",
       "      <td>0.08</td>\n",
       "      <td>0.08</td>\n",
       "    </tr>\n",
       "    <tr>\n",
       "      <th rowspan=\"3\" valign=\"top\">male</th>\n",
       "      <th>1</th>\n",
       "      <td>0.09</td>\n",
       "      <td>0.05</td>\n",
       "    </tr>\n",
       "    <tr>\n",
       "      <th>2</th>\n",
       "      <td>0.10</td>\n",
       "      <td>0.02</td>\n",
       "    </tr>\n",
       "    <tr>\n",
       "      <th>3</th>\n",
       "      <td>0.34</td>\n",
       "      <td>0.05</td>\n",
       "    </tr>\n",
       "  </tbody>\n",
       "</table>\n",
       "</div>"
      ],
      "text/plain": [
       "Survived          0     1\n",
       "Sex    Pclass            \n",
       "female 1       0.00  0.10\n",
       "       2       0.01  0.08\n",
       "       3       0.08  0.08\n",
       "male   1       0.09  0.05\n",
       "       2       0.10  0.02\n",
       "       3       0.34  0.05"
      ]
     },
     "execution_count": 15,
     "metadata": {},
     "output_type": "execute_result"
    }
   ],
   "source": [
    "df_survirors_by_sex_and_class = round(df.pivot_table (\n",
    "    index=[\"Sex\",\"Pclass\"],\n",
    "    columns=\"Survived\", \n",
    "    aggfunc=\"count\"\n",
    ")[\"Name\"]/total_passengers,2)\n",
    "\n",
    "df_survirors_by_sex_and_class"
   ]
  },
  {
   "cell_type": "markdown",
   "id": "8df5f38e-27d8-4ecf-9b71-35a963af571e",
   "metadata": {},
   "source": [
    "## Part 2: More insights on the data\n",
    "\n",
    "Open-ended question. Maximum points for usage of pandas, conversion to JSON also allowed, exploration of several methods encouraged. More complex and innovative approaches get a higher grade.\n",
    "\n",
    "\n",
    "\n",
    "You can enrich your analysis with pandas methods and techniques not seen in class, but libraries other than pandas are not allowed.\n"
   ]
  },
  {
   "cell_type": "markdown",
   "id": "e4afb677-7978-4b49-ae7c-84336deb1fc9",
   "metadata": {},
   "source": [
    "### Question6: \n",
    ">Present 3 insights about the dataset, each of them relating at least 3 different variables, and support them by code and numbers. Possible examples:\n",
    "\n",
    ">\"Men aged less than 18 were more/less likely to survive than the average passenger\" (Sex, Age, Survival)\n",
    ">\"Women with no siblings or spouses paid on average a cheaper/pricier ticket than the average woman\" (Sex, SibSp, Fare)\n",
    ">\"Men with a title other than Mr. were more/less likely to have a known (i.e. non-missing) cabin than the average man\" (Sex, Name, Cabin)\n",
    "\n",
    "\n",
    ">(Using these exact examples is valid, but awards fewer points than proposing original insights)\n",
    "\n"
   ]
  },
  {
   "cell_type": "markdown",
   "id": "b7d634ce-cd17-42a1-b8f8-56b16138549c",
   "metadata": {},
   "source": [
    "### Insight n1:\n",
    "Passengers bellow 30 with the \"title\" Miss were more likely to survive than people with the title Mr in the same age category? (Age, Name, Survived)\n",
    " "
   ]
  },
  {
   "cell_type": "code",
   "execution_count": 16,
   "id": "1124b292-d93c-4154-ad8d-2635e0c1f9eb",
   "metadata": {},
   "outputs": [
    {
     "data": {
      "text/plain": [
       "count    714.000000\n",
       "mean      29.699118\n",
       "std       14.526497\n",
       "min        0.420000\n",
       "25%       20.125000\n",
       "50%       28.000000\n",
       "75%       38.000000\n",
       "max       80.000000\n",
       "Name: Age, dtype: float64"
      ]
     },
     "execution_count": 16,
     "metadata": {},
     "output_type": "execute_result"
    }
   ],
   "source": [
    "df[\"Age\"].describe()"
   ]
  },
  {
   "cell_type": "code",
   "execution_count": 17,
   "id": "c2b23e79-52e7-469b-8d26-6e2e4f297bfb",
   "metadata": {},
   "outputs": [
    {
     "data": {
      "text/plain": [
       "177"
      ]
     },
     "execution_count": 17,
     "metadata": {},
     "output_type": "execute_result"
    }
   ],
   "source": [
    "#checking for null values \n",
    "df[\"Age\"].isnull().sum()"
   ]
  },
  {
   "cell_type": "code",
   "execution_count": 82,
   "id": "e071bf37-bd48-4139-9998-9e35e1b02b52",
   "metadata": {},
   "outputs": [
    {
     "data": {
      "text/plain": [
       "30.0"
      ]
     },
     "execution_count": 82,
     "metadata": {},
     "output_type": "execute_result"
    }
   ],
   "source": [
    "df[\"Age\"].median()"
   ]
  },
  {
   "cell_type": "code",
   "execution_count": 83,
   "id": "2e3e0252-f814-427c-987e-e9122466a42e",
   "metadata": {},
   "outputs": [
    {
     "data": {
      "text/plain": [
       "29.740899958093184"
      ]
     },
     "execution_count": 83,
     "metadata": {},
     "output_type": "execute_result"
    }
   ],
   "source": [
    "df[\"Age\"].mean()"
   ]
  },
  {
   "cell_type": "code",
   "execution_count": 84,
   "id": "d3d5b5e4-bc50-4c64-9404-19e4ad43763e",
   "metadata": {},
   "outputs": [],
   "source": [
    "#Here we fond out that 177 age values were missing from the dataset. \n",
    "#We considered remplacing them by the mean or median age, but it could bias our analysis. \n",
    "#We considered creating a new dataframe were all null age values would be discarded.\n",
    "\n",
    "#In the end, we decided to replace these null values with the mean age associated to each Title. \n",
    "#We considered that this is the best way to proceed in order to avoid bias and be critical."
   ]
  },
  {
   "cell_type": "code",
   "execution_count": 19,
   "id": "05888b22-f7de-448f-902b-a17c64f2a8f1",
   "metadata": {},
   "outputs": [
    {
     "data": {
      "text/plain": [
       "80.0"
      ]
     },
     "execution_count": 19,
     "metadata": {},
     "output_type": "execute_result"
    }
   ],
   "source": [
    "df[\"Age\"].max()"
   ]
  },
  {
   "cell_type": "code",
   "execution_count": 20,
   "id": "1f3c2ab2-fbfb-4fb3-8839-c512bd8886a3",
   "metadata": {},
   "outputs": [
    {
     "name": "stdout",
     "output_type": "stream",
     "text": [
      "AxesSubplot(0.125,0.125;0.775x0.755)\n"
     ]
    },
    {
     "data": {
      "image/png": "[encoded data removed]",
      "text/plain": [
       "<Figure size 432x288 with 1 Axes>"
      ]
     },
     "metadata": {
      "needs_background": "light"
     },
     "output_type": "display_data"
    }
   ],
   "source": [
    "print(df[\"Age\"].plot(kind=\"hist\",bins=8))"
   ]
  },
  {
   "cell_type": "code",
   "execution_count": 21,
   "id": "af694669-42f8-421e-a4e7-0067e06b6cbe",
   "metadata": {
    "tags": []
   },
   "outputs": [
    {
     "data": {
      "text/plain": [
       "array(['Mr', 'Mrs', 'Miss', 'Master', 'Don', 'Rev', 'Dr', 'Mme', 'Ms',\n",
       "       'Major', 'Lady', 'Sir', 'Mlle', 'Col', 'Capt', 'Countess',\n",
       "       'Jonkheer'], dtype=object)"
      ]
     },
     "execution_count": 21,
     "metadata": {},
     "output_type": "execute_result"
    }
   ],
   "source": [
    "#We want to extract the title form the column name and create a new column with only the titles\n",
    "#The title format is always 1 capital letter + x small letters + \".\" \n",
    "\n",
    "df[\"Title\"]=df[\"Name\"].str.extract(\"([A-Za-z]+)\\.\")\n",
    "df[\"Title\"].unique()"
   ]
  },
  {
   "cell_type": "code",
   "execution_count": 104,
   "id": "627005b9-d15f-4212-88ac-ac45c7edd332",
   "metadata": {},
   "outputs": [],
   "source": [
    "#Replacing missing values for the most relevant Title previously extracted. \n",
    "#For example it doesn't make sense to compute the mean of the Cpt (should be 1 or few captain)\n",
    "df.loc[(df[\"Age\"].isnull())&(df[\"Title\"]==\"Mr\"),\"Age\"]= df[\"Age\"][df[\"Title\"]==\"Mr\"].mean()\n",
    "df.loc[(df[\"Age\"].isnull())&(df[\"Title\"]=='Mrs'),\"Age\"]= df[\"Age\"][df[\"Title\"]==\"Mrs\"].mean()\n",
    "df.loc[(df[\"Age\"].isnull())&(df[\"Title\"]=='Master'),\"Age\"]= df[\"Age\"][df[\"Title\"]==\"Master\"].mean()\n",
    "df.loc[(df[\"Age\"].isnull())&(df[\"Title\"]=='Miss'),\"Age\"]= df[\"Age\"][df[\"Title\"]==\"Miss\"].mean()\n",
    "df.loc[(df[\"Age\"].isnull())&(df[\"Title\"]=='Mlle'),\"Age\"]= df[\"Age\"][df[\"Title\"]==\"Mlle\"].mean()\n",
    "df.loc[(df[\"Age\"].isnull())&(df[\"Title\"]=='Other'),\"Age\"]= df[\"Age\"][df[\"Title\"]==\"Other\"].mean()\n",
    "df.loc[(df[\"Age\"].isnull())&(df[\"Title\"]=='Don'),\"Age\"]= df[\"Age\"][df[\"Title\"]==\"Don\"].mean()"
   ]
  },
  {
   "cell_type": "code",
   "execution_count": 75,
   "id": "bff891bb-4308-4333-a420-4504ddab9b61",
   "metadata": {
    "tags": []
   },
   "outputs": [
    {
     "data": {
      "text/html": [
       "<div>\n",
       "<style scoped>\n",
       "    .dataframe tbody tr th:only-of-type {\n",
       "        vertical-align: middle;\n",
       "    }\n",
       "\n",
       "    .dataframe tbody tr th {\n",
       "        vertical-align: top;\n",
       "    }\n",
       "\n",
       "    .dataframe thead th {\n",
       "        text-align: right;\n",
       "    }\n",
       "</style>\n",
       "<table border=\"1\" class=\"dataframe\">\n",
       "  <thead>\n",
       "    <tr style=\"text-align: right;\">\n",
       "      <th></th>\n",
       "      <th>Age</th>\n",
       "    </tr>\n",
       "    <tr>\n",
       "      <th>Title</th>\n",
       "      <th></th>\n",
       "    </tr>\n",
       "  </thead>\n",
       "  <tbody>\n",
       "    <tr>\n",
       "      <th>Capt</th>\n",
       "      <td>70.0</td>\n",
       "    </tr>\n",
       "    <tr>\n",
       "      <th>Col</th>\n",
       "      <td>58.0</td>\n",
       "    </tr>\n",
       "    <tr>\n",
       "      <th>Countess</th>\n",
       "      <td>33.0</td>\n",
       "    </tr>\n",
       "    <tr>\n",
       "      <th>Don</th>\n",
       "      <td>40.0</td>\n",
       "    </tr>\n",
       "    <tr>\n",
       "      <th>Dr</th>\n",
       "      <td>42.0</td>\n",
       "    </tr>\n",
       "    <tr>\n",
       "      <th>Jonkheer</th>\n",
       "      <td>38.0</td>\n",
       "    </tr>\n",
       "    <tr>\n",
       "      <th>Lady</th>\n",
       "      <td>48.0</td>\n",
       "    </tr>\n",
       "    <tr>\n",
       "      <th>Major</th>\n",
       "      <td>48.0</td>\n",
       "    </tr>\n",
       "    <tr>\n",
       "      <th>Master</th>\n",
       "      <td>5.0</td>\n",
       "    </tr>\n",
       "    <tr>\n",
       "      <th>Miss</th>\n",
       "      <td>22.0</td>\n",
       "    </tr>\n",
       "    <tr>\n",
       "      <th>Mlle</th>\n",
       "      <td>24.0</td>\n",
       "    </tr>\n",
       "    <tr>\n",
       "      <th>Mme</th>\n",
       "      <td>24.0</td>\n",
       "    </tr>\n",
       "    <tr>\n",
       "      <th>Mr</th>\n",
       "      <td>32.0</td>\n",
       "    </tr>\n",
       "    <tr>\n",
       "      <th>Mrs</th>\n",
       "      <td>36.0</td>\n",
       "    </tr>\n",
       "    <tr>\n",
       "      <th>Ms</th>\n",
       "      <td>28.0</td>\n",
       "    </tr>\n",
       "    <tr>\n",
       "      <th>Rev</th>\n",
       "      <td>43.0</td>\n",
       "    </tr>\n",
       "    <tr>\n",
       "      <th>Sir</th>\n",
       "      <td>49.0</td>\n",
       "    </tr>\n",
       "  </tbody>\n",
       "</table>\n",
       "</div>"
      ],
      "text/plain": [
       "           Age\n",
       "Title         \n",
       "Capt      70.0\n",
       "Col       58.0\n",
       "Countess  33.0\n",
       "Don       40.0\n",
       "Dr        42.0\n",
       "Jonkheer  38.0\n",
       "Lady      48.0\n",
       "Major     48.0\n",
       "Master     5.0\n",
       "Miss      22.0\n",
       "Mlle      24.0\n",
       "Mme       24.0\n",
       "Mr        32.0\n",
       "Mrs       36.0\n",
       "Ms        28.0\n",
       "Rev       43.0\n",
       "Sir       49.0"
      ]
     },
     "execution_count": 75,
     "metadata": {},
     "output_type": "execute_result"
    }
   ],
   "source": [
    "title_age = df.groupby(\"Title\").agg({\"Age\":\"mean\"})\n",
    "round(title_age,0)"
   ]
  },
  {
   "cell_type": "code",
   "execution_count": 111,
   "id": "38119703-fb02-48da-9d39-cd1d958a3b3d",
   "metadata": {},
   "outputs": [],
   "source": [
    "#defining range of age, so we can analyse better the survival rate for each range.\n",
    "#And focus on the people between 0 and 30 as it's the range that interests us.\n",
    "df[\"Age_Range\"] = pd.cut(df[\"Age\"],[0,30,60,90],\n",
    "                         labels = [\"0-30\",\"30-60\",\"60-90\"])"
   ]
  },
  {
   "cell_type": "code",
   "execution_count": 112,
   "id": "c6940e56-1bc2-4f3b-85a6-de3f487c8a5b",
   "metadata": {},
   "outputs": [
    {
     "data": {
      "text/html": [
       "<div>\n",
       "<style scoped>\n",
       "    .dataframe tbody tr th:only-of-type {\n",
       "        vertical-align: middle;\n",
       "    }\n",
       "\n",
       "    .dataframe tbody tr th {\n",
       "        vertical-align: top;\n",
       "    }\n",
       "\n",
       "    .dataframe thead th {\n",
       "        text-align: right;\n",
       "    }\n",
       "</style>\n",
       "<table border=\"1\" class=\"dataframe\">\n",
       "  <thead>\n",
       "    <tr style=\"text-align: right;\">\n",
       "      <th></th>\n",
       "      <th>Survived</th>\n",
       "    </tr>\n",
       "    <tr>\n",
       "      <th>Age_Range</th>\n",
       "      <th></th>\n",
       "    </tr>\n",
       "  </thead>\n",
       "  <tbody>\n",
       "    <tr>\n",
       "      <th>0-30</th>\n",
       "      <td>0.423163</td>\n",
       "    </tr>\n",
       "    <tr>\n",
       "      <th>30-60</th>\n",
       "      <td>0.350835</td>\n",
       "    </tr>\n",
       "    <tr>\n",
       "      <th>60-90</th>\n",
       "      <td>0.227273</td>\n",
       "    </tr>\n",
       "  </tbody>\n",
       "</table>\n",
       "</div>"
      ],
      "text/plain": [
       "           Survived\n",
       "Age_Range          \n",
       "0-30       0.423163\n",
       "30-60      0.350835\n",
       "60-90      0.227273"
      ]
     },
     "execution_count": 112,
     "metadata": {},
     "output_type": "execute_result"
    }
   ],
   "source": [
    "survived_by_age = df.groupby(\"Age_Range\").agg({\"Survived\":\"mean\"})\n",
    "survived_by_age"
   ]
  },
  {
   "cell_type": "code",
   "execution_count": 27,
   "id": "d0b19d09-028b-42a6-a7bc-73ee1182290e",
   "metadata": {
    "tags": []
   },
   "outputs": [
    {
     "name": "stdout",
     "output_type": "stream",
     "text": [
      "Survived       0      1\n",
      "Age_Range              \n",
      "0-30       29.07  21.32\n",
      "30-60      30.53  16.50\n",
      "60-90       1.91   0.56\n"
     ]
    },
    {
     "data": {
      "text/plain": [
       "<AxesSubplot:title={'center':'Proportion of survivors and dead by age range'}, xlabel='Age_Range'>"
      ]
     },
     "execution_count": 27,
     "metadata": {},
     "output_type": "execute_result"
    },
    {
     "data": {
      "image/png": "[encoded data removed]",
      "text/plain": [
       "<Figure size 432x288 with 1 Axes>"
      ]
     },
     "metadata": {
      "needs_background": "light"
     },
     "output_type": "display_data"
    }
   ],
   "source": [
    "#we are interested in comparing the survival rate of each age rage out of the total amout of passengers. \n",
    "#we think that a plot graph will highlight better what we are trying to illustrate with this analysis. \n",
    "\n",
    "df_survivors_by_age_range = round(df.pivot_table (\n",
    "    index=[\"Age_Range\"],\n",
    "    columns=\"Survived\", \n",
    "    aggfunc=\"count\"\n",
    ")[\"Name\"]/total_passengers,4)*100\n",
    "\n",
    "print(df_survivors_by_age_range)\n",
    "df_survivors_by_age_range.plot(kind='bar',colormap='coolwarm',title='Proportion of survivors and dead by age range')"
   ]
  },
  {
   "cell_type": "code",
   "execution_count": 76,
   "id": "7f674057-fecb-49ab-b85a-d3283670f4a4",
   "metadata": {},
   "outputs": [
    {
     "name": "stdout",
     "output_type": "stream",
     "text": [
      "They are 182 passenger with the title Miss and 517 with the title Mr.\n"
     ]
    }
   ],
   "source": [
    "#counting the passengers with each tittle\n",
    "\n",
    "miss = len(df.loc[df[\"Title\"] == \"Miss\"])\n",
    "mr = len(df.loc[df[\"Title\"] == \"Mr\"])\n",
    "\n",
    "print(\"They are\", miss,\"passenger with the title Miss and\", mr, \"with the title Mr.\")"
   ]
  },
  {
   "cell_type": "code",
   "execution_count": 113,
   "id": "1fd141f6-9359-4760-904d-b1fe540d92dc",
   "metadata": {},
   "outputs": [
    {
     "name": "stdout",
     "output_type": "stream",
     "text": [
      "Out of the 182 passengers with the title Miss , we found that 127 survived.\n",
      "This means that 69.78 % of the passengers with the title Miss survived.\n"
     ]
    }
   ],
   "source": [
    "#We are interested in understanding the proportion of survivors for each title.\n",
    "\n",
    "miss_survived = len(df.loc[(df[\"Title\"] == \"Miss\")&(df[\"Survived\"]==1)])\n",
    "\n",
    "miss_survived_percent = round(len(df.loc[\n",
    "        (df[\"Title\"] == \"Miss\")\n",
    "        &(df[\"Survived\"]==1)])/(miss)*100,2)\n",
    "\n",
    "print (\"Out of the\",miss,\"passengers with the title Miss , we found that\",miss_survived,\"survived.\")\n",
    "print (\"This means that\",miss_survived_percent,\"% of the passengers with the title Miss survived.\")\n"
   ]
  },
  {
   "cell_type": "code",
   "execution_count": 115,
   "id": "64716007-fff1-437d-b5c1-482011bb38a8",
   "metadata": {},
   "outputs": [
    {
     "name": "stdout",
     "output_type": "stream",
     "text": [
      "Out of the 517 passengers with the title Mr , we found that 81 survived.\n",
      "This means that 15.67 % of the passengers with the title Mr survived.\n"
     ]
    }
   ],
   "source": [
    "\n",
    "mr_survived = len(df.loc[(df[\"Title\"] == \"Mr\")&(df[\"Survived\"]==1)])\n",
    "\n",
    "mr_survived_percent = round(len(df.loc[\n",
    "        (df[\"Title\"] == \"Mr\")\n",
    "        &(df[\"Survived\"]==1)])/(mr)*100,2)\n",
    "\n",
    "print (\"Out of the\",mr,\"passengers with the title Mr , we found that\",mr_survived,\"survived.\")\n",
    "print (\"This means that\",mr_survived_percent,\"% of the passengers with the title Mr survived.\")\n"
   ]
  },
  {
   "cell_type": "code",
   "execution_count": 117,
   "id": "9d7ca612-9261-46f2-b225-2b04eed77396",
   "metadata": {},
   "outputs": [
    {
     "data": {
      "text/html": [
       "<div>\n",
       "<style scoped>\n",
       "    .dataframe tbody tr th:only-of-type {\n",
       "        vertical-align: middle;\n",
       "    }\n",
       "\n",
       "    .dataframe tbody tr th {\n",
       "        vertical-align: top;\n",
       "    }\n",
       "\n",
       "    .dataframe thead tr th {\n",
       "        text-align: left;\n",
       "    }\n",
       "\n",
       "    .dataframe thead tr:last-of-type th {\n",
       "        text-align: right;\n",
       "    }\n",
       "</style>\n",
       "<table border=\"1\" class=\"dataframe\">\n",
       "  <thead>\n",
       "    <tr>\n",
       "      <th>Survived</th>\n",
       "      <th colspan=\"2\" halign=\"left\">1</th>\n",
       "    </tr>\n",
       "    <tr>\n",
       "      <th>Title</th>\n",
       "      <th>Miss</th>\n",
       "      <th>Mr</th>\n",
       "    </tr>\n",
       "    <tr>\n",
       "      <th>Age_Range</th>\n",
       "      <th></th>\n",
       "      <th></th>\n",
       "    </tr>\n",
       "  </thead>\n",
       "  <tbody>\n",
       "    <tr>\n",
       "      <th>0-30</th>\n",
       "      <td>11.45</td>\n",
       "      <td>3.48</td>\n",
       "    </tr>\n",
       "    <tr>\n",
       "      <th>30-60</th>\n",
       "      <td>2.69</td>\n",
       "      <td>5.39</td>\n",
       "    </tr>\n",
       "    <tr>\n",
       "      <th>60-90</th>\n",
       "      <td>0.11</td>\n",
       "      <td>0.22</td>\n",
       "    </tr>\n",
       "  </tbody>\n",
       "</table>\n",
       "</div>"
      ],
      "text/plain": [
       "Survived       1      \n",
       "Title       Miss    Mr\n",
       "Age_Range             \n",
       "0-30       11.45  3.48\n",
       "30-60       2.69  5.39\n",
       "60-90       0.11  0.22"
      ]
     },
     "execution_count": 117,
     "metadata": {},
     "output_type": "execute_result"
    }
   ],
   "source": [
    "#we are interested in comparing the survival rate of each age rage for Miss and Mr out of total amout of passengers. \n",
    "title_and_survived = df.loc[(\n",
    "        (df[\"Title\"] == \"Miss\") | (df[\"Title\"] == \"Mr\"))\n",
    "        &(df[\"Survived\"])]\n",
    "\n",
    "title_age_survived = round(title_and_survived.pivot_table (\n",
    "    index=[\"Age_Range\",\"Title\"],\n",
    "    columns=[\"Survived\"], \n",
    "    aggfunc=\"count\"\n",
    ").unstack()[\"Name\"]/total_passengers,4)*100\n",
    "title_age_survived"
   ]
  },
  {
   "cell_type": "code",
   "execution_count": 32,
   "id": "bd11a460-d2b9-498f-9e50-8ffd48af8b2b",
   "metadata": {},
   "outputs": [
    {
     "data": {
      "text/plain": [
       "<AxesSubplot:title={'center':'Proportion of survivors and dead by age range and by gender'}, xlabel='Age_Range'>"
      ]
     },
     "execution_count": 32,
     "metadata": {},
     "output_type": "execute_result"
    },
    {
     "data": {
      "image/png": "[encoded data removed]",
      "text/plain": [
       "<Figure size 432x288 with 1 Axes>"
      ]
     },
     "metadata": {
      "needs_background": "light"
     },
     "output_type": "display_data"
    }
   ],
   "source": [
    "#we think that a plot will highlight better want we are trying to illustrate with this analysis.\n",
    "\n",
    "title_age_survived.plot(\n",
    "    kind='bar',\n",
    "    colormap='coolwarm',\n",
    "    title='Proportion of survivors and dead by age range and by gender')"
   ]
  },
  {
   "cell_type": "code",
   "execution_count": 33,
   "id": "6efcd097-e4cb-4092-8c10-0f7174a2fd4b",
   "metadata": {},
   "outputs": [],
   "source": [
    "#We can see that passengers below 30, with the title \"Miss\" have survived almost 3 times more than the same age range with the title \"Mr\". \n",
    "#Overall, this is crosschecking with our previous analysis that concluded that women were more likely to survive.\n",
    "\n"
   ]
  },
  {
   "cell_type": "markdown",
   "id": "0cf60fe6-63f9-4c86-90bd-d0f419fbca48",
   "metadata": {},
   "source": [
    "#### Conclusion\n",
    "For this first insight's analysis, we can conclude that passengers in the age range 0-30, with the title \"Miss\" survived more than passengers with the tittle \"Mr\". In proportion, for this age range, \"Miss\" survived almost 3times more than \"Mr\". \n",
    "Overall the passengers, in the age range bellow 30 survived more than passengers in the other age ranges. \n",
    "This is also cross validating the theory according to which female passengers had more chances to survive than males, that was highlighted in the first part of this assignment. \n"
   ]
  },
  {
   "cell_type": "markdown",
   "id": "b86e1524-46e5-419d-8586-65fc9dbe13f4",
   "metadata": {},
   "source": [
    "---\n"
   ]
  },
  {
   "cell_type": "markdown",
   "id": "759d6e6e-0380-4cc2-954b-cb3b95f5962b",
   "metadata": {},
   "source": [
    "### Insight n2:\n",
    "We want to check if passengers paying the highest fare in 3rd class are more likely to survive than passengers paying the lowest price in 3rd class ? (Pclass, Fare, Survived)\n",
    "\n",
    "\n",
    "And we assume that the classes on the Titanic are linked to the fare you pay --> the highest the fare, the highest the class. "
   ]
  },
  {
   "cell_type": "code",
   "execution_count": 34,
   "id": "719de542-45d5-4b80-88e2-43df180af84e",
   "metadata": {},
   "outputs": [
    {
     "data": {
      "text/html": [
       "<div>\n",
       "<style scoped>\n",
       "    .dataframe tbody tr th:only-of-type {\n",
       "        vertical-align: middle;\n",
       "    }\n",
       "\n",
       "    .dataframe tbody tr th {\n",
       "        vertical-align: top;\n",
       "    }\n",
       "\n",
       "    .dataframe thead th {\n",
       "        text-align: right;\n",
       "    }\n",
       "</style>\n",
       "<table border=\"1\" class=\"dataframe\">\n",
       "  <thead>\n",
       "    <tr style=\"text-align: right;\">\n",
       "      <th></th>\n",
       "      <th>Fare</th>\n",
       "    </tr>\n",
       "    <tr>\n",
       "      <th>Pclass</th>\n",
       "      <th></th>\n",
       "    </tr>\n",
       "  </thead>\n",
       "  <tbody>\n",
       "    <tr>\n",
       "      <th>1</th>\n",
       "      <td>84.154687</td>\n",
       "    </tr>\n",
       "    <tr>\n",
       "      <th>2</th>\n",
       "      <td>20.662183</td>\n",
       "    </tr>\n",
       "    <tr>\n",
       "      <th>3</th>\n",
       "      <td>13.675550</td>\n",
       "    </tr>\n",
       "  </tbody>\n",
       "</table>\n",
       "</div>"
      ],
      "text/plain": [
       "             Fare\n",
       "Pclass           \n",
       "1       84.154687\n",
       "2       20.662183\n",
       "3       13.675550"
      ]
     },
     "execution_count": 34,
     "metadata": {},
     "output_type": "execute_result"
    }
   ],
   "source": [
    "#We assumed that the fare price is linked to the class on the Titanic. We want to confirm that: \n",
    "df.groupby(\"Pclass\").agg({\"Fare\":\"mean\"})"
   ]
  },
  {
   "cell_type": "code",
   "execution_count": 35,
   "id": "e8d9a9ee-d484-465a-82de-3ca4fea720fc",
   "metadata": {},
   "outputs": [
    {
     "data": {
      "text/plain": [
       "count    891.000000\n",
       "mean      32.204208\n",
       "std       49.693429\n",
       "min        0.000000\n",
       "25%        7.910400\n",
       "50%       14.454200\n",
       "75%       31.000000\n",
       "max      512.329200\n",
       "Name: Fare, dtype: float64"
      ]
     },
     "execution_count": 35,
     "metadata": {},
     "output_type": "execute_result"
    }
   ],
   "source": [
    "df[\"Fare\"].describe()"
   ]
  },
  {
   "cell_type": "code",
   "execution_count": 36,
   "id": "7c5b5563-24ca-4c4e-90a9-1af95394bd56",
   "metadata": {},
   "outputs": [
    {
     "data": {
      "text/plain": [
       "0"
      ]
     },
     "execution_count": 36,
     "metadata": {},
     "output_type": "execute_result"
    }
   ],
   "source": [
    "df[\"Fare\"].isnull().sum()"
   ]
  },
  {
   "cell_type": "code",
   "execution_count": 37,
   "id": "b048efb3-8a2c-499d-a95c-1727d7ec83cf",
   "metadata": {},
   "outputs": [
    {
     "data": {
      "text/plain": [
       "15"
      ]
     },
     "execution_count": 37,
     "metadata": {},
     "output_type": "execute_result"
    }
   ],
   "source": [
    "#we can see that the min is 0. how many passenger didn't pay. \n",
    "len(df.loc[(df[\"Fare\"]==0)])"
   ]
  },
  {
   "cell_type": "code",
   "execution_count": 118,
   "id": "b13ee0fa-e7e4-4db9-8e78-103392e5c64b",
   "metadata": {
    "tags": []
   },
   "outputs": [
    {
     "data": {
      "text/plain": [
       "4"
      ]
     },
     "execution_count": 118,
     "metadata": {},
     "output_type": "execute_result"
    }
   ],
   "source": [
    "#we want to know who survived and who didn't make it out of these people who paid the lowest possible fare : 0\n",
    "#from the passengers in 3rd class.\n",
    "no_fare_and_3rd = df.loc[(df[\"Fare\"]==0) & (df[\"Pclass\"]==3)]\n",
    "len(no_fare_and_3rd)"
   ]
  },
  {
   "cell_type": "code",
   "execution_count": 39,
   "id": "7e78d739-024c-4992-872a-775813f0bfd5",
   "metadata": {},
   "outputs": [
    {
     "data": {
      "text/plain": [
       "487"
      ]
     },
     "execution_count": 39,
     "metadata": {},
     "output_type": "execute_result"
    }
   ],
   "source": [
    "fare_third = df[(df[\"Fare\"]>0) & (df[\"Pclass\"]==3)].copy()\n",
    "len(fare_third)"
   ]
  },
  {
   "cell_type": "code",
   "execution_count": 40,
   "id": "b0f1c5f4-4149-4475-93df-bace3b955ca4",
   "metadata": {},
   "outputs": [
    {
     "data": {
      "text/plain": [
       "<AxesSubplot:ylabel='Frequency'>"
      ]
     },
     "execution_count": 40,
     "metadata": {},
     "output_type": "execute_result"
    },
    {
     "data": {
      "image/png": "[encoded data removed]",
      "text/plain": [
       "<Figure size 432x288 with 1 Axes>"
      ]
     },
     "metadata": {
      "needs_background": "light"
     },
     "output_type": "display_data"
    }
   ],
   "source": [
    "#We want to see the distribution of the fare in third class\n",
    "fare_third[\"Fare\"].plot(kind='hist',bins=8)"
   ]
  },
  {
   "cell_type": "code",
   "execution_count": 119,
   "id": "90ebb580-8485-4edb-a556-0caec5ce008f",
   "metadata": {
    "tags": []
   },
   "outputs": [],
   "source": [
    "#we want to create ranges for each fare paid in 3rd class for an easier use of this variable \n",
    "fare_third[\"Fare_range\"]=pd.qcut(\n",
    "    fare_third[\"Fare\"],8,labels=[\"R1\",\"R2\",\"R3\",\"R4\",\"R5\",\"R6\",\"R7\",\"R8\"]\n",
    ")"
   ]
  },
  {
   "cell_type": "code",
   "execution_count": 42,
   "id": "7249dfeb-2da2-463c-8471-13afabf4e064",
   "metadata": {},
   "outputs": [
    {
     "data": {
      "text/plain": [
       "count     487\n",
       "unique      8\n",
       "top        R3\n",
       "freq       83\n",
       "Name: Fare_range, dtype: object"
      ]
     },
     "execution_count": 42,
     "metadata": {},
     "output_type": "execute_result"
    }
   ],
   "source": [
    "fare_third[\"Fare_range\"].describe()"
   ]
  },
  {
   "cell_type": "code",
   "execution_count": 43,
   "id": "0268a6bd-d42b-4e4c-b2ab-2df1b0f68380",
   "metadata": {},
   "outputs": [],
   "source": [
    "#fyi:[(4.010999999999999, 7.25] < (7.25, 7.75] < (7.75, 7.896] < (7.896, 8.05] < (8.05, 9.496] < (9.496, 15.5] < (15.5, 24.15] < (24.15, 69.55]]\n",
    "#corresponding to R1 to R7, R1 being the lowest range fare and R7 the highest for 3rd class. \n",
    "#we created the labels to ease the analysis and the comprehension in the following steps"
   ]
  },
  {
   "cell_type": "code",
   "execution_count": 44,
   "id": "36ca445f-2497-4a5a-a0c0-8612f334fde3",
   "metadata": {},
   "outputs": [
    {
     "data": {
      "text/html": [
       "<div>\n",
       "<style scoped>\n",
       "    .dataframe tbody tr th:only-of-type {\n",
       "        vertical-align: middle;\n",
       "    }\n",
       "\n",
       "    .dataframe tbody tr th {\n",
       "        vertical-align: top;\n",
       "    }\n",
       "\n",
       "    .dataframe thead th {\n",
       "        text-align: right;\n",
       "    }\n",
       "</style>\n",
       "<table border=\"1\" class=\"dataframe\">\n",
       "  <thead>\n",
       "    <tr style=\"text-align: right;\">\n",
       "      <th></th>\n",
       "      <th>Survived</th>\n",
       "    </tr>\n",
       "    <tr>\n",
       "      <th>Fare_range</th>\n",
       "      <th></th>\n",
       "    </tr>\n",
       "  </thead>\n",
       "  <tbody>\n",
       "    <tr>\n",
       "      <th>R1</th>\n",
       "      <td>0.149254</td>\n",
       "    </tr>\n",
       "    <tr>\n",
       "      <th>R2</th>\n",
       "      <td>0.315789</td>\n",
       "    </tr>\n",
       "    <tr>\n",
       "      <th>R3</th>\n",
       "      <td>0.180723</td>\n",
       "    </tr>\n",
       "    <tr>\n",
       "      <th>R4</th>\n",
       "      <td>0.225806</td>\n",
       "    </tr>\n",
       "    <tr>\n",
       "      <th>R5</th>\n",
       "      <td>0.142857</td>\n",
       "    </tr>\n",
       "    <tr>\n",
       "      <th>R6</th>\n",
       "      <td>0.349206</td>\n",
       "    </tr>\n",
       "    <tr>\n",
       "      <th>R7</th>\n",
       "      <td>0.406250</td>\n",
       "    </tr>\n",
       "    <tr>\n",
       "      <th>R8</th>\n",
       "      <td>0.142857</td>\n",
       "    </tr>\n",
       "  </tbody>\n",
       "</table>\n",
       "</div>"
      ],
      "text/plain": [
       "            Survived\n",
       "Fare_range          \n",
       "R1          0.149254\n",
       "R2          0.315789\n",
       "R3          0.180723\n",
       "R4          0.225806\n",
       "R5          0.142857\n",
       "R6          0.349206\n",
       "R7          0.406250\n",
       "R8          0.142857"
      ]
     },
     "execution_count": 44,
     "metadata": {},
     "output_type": "execute_result"
    }
   ],
   "source": [
    "fare_survivors = fare_third.groupby(\"Fare_range\").agg({\"Survived\":\"mean\"})\n",
    "fare_survivors"
   ]
  },
  {
   "cell_type": "code",
   "execution_count": 120,
   "id": "81694894-4588-4d8b-8082-e74502b967f9",
   "metadata": {},
   "outputs": [
    {
     "name": "stdout",
     "output_type": "stream",
     "text": [
      "The people paying the lowest fare in 3rd class represent 5.26 % of the overall survivors from the siking of the titanic.\n",
      "The people paying the highest fare in 3rd class represent 7.6 % of the overall survivors from the siking of the titanic.\n"
     ]
    }
   ],
   "source": [
    "#from the above table we see that the proportion of survivors in R1 and R8 is similar and low. \n",
    "#So we choose R2 and R7 for the analysis respectively representing the low and the high fare of third class. \n",
    "\n",
    "survivors_rate_low_fare = round(\n",
    "    (len(fare_third.loc[(fare_third[\"Fare_range\"]==\"R2\") \n",
    "                & (fare_third[\"Survived\"] == 1)])/ survivors)*100,2)\n",
    "\n",
    "survivors_rate_high_fare = round(\n",
    "    (len(fare_third.loc[(fare_third[\"Fare_range\"]==\"R7\") \n",
    "                & (fare_third[\"Survived\"] == 1)])/ survivors)*100,2)\n",
    "\n",
    "print(\"The people paying the lowest fare in 3rd class represent\", survivors_rate_low_fare, \"% of the overall survivors from the siking of the titanic.\")\n",
    "print(\"The people paying the highest fare in 3rd class represent\", survivors_rate_high_fare, \"% of the overall survivors from the siking of the titanic.\")"
   ]
  },
  {
   "cell_type": "code",
   "execution_count": 46,
   "id": "578c1a97-184a-4f36-a3ad-8120cfd8748a",
   "metadata": {},
   "outputs": [
    {
     "name": "stdout",
     "output_type": "stream",
     "text": [
      "Survived       0     1\n",
      "Fare_range            \n",
      "R1          6.40  1.12\n",
      "R2          4.38  2.02\n",
      "R3          7.63  1.68\n",
      "R4          5.39  1.57\n",
      "R5          3.37  0.56\n",
      "R6          4.60  2.47\n",
      "R7          4.26  2.92\n",
      "R8          5.39  0.90\n"
     ]
    },
    {
     "data": {
      "text/plain": [
       "<AxesSubplot:title={'center':'Proportion of survivors and dead by fare range in 3rd class'}, xlabel='Fare_range'>"
      ]
     },
     "execution_count": 46,
     "metadata": {},
     "output_type": "execute_result"
    },
    {
     "data": {
      "image/png": "[encoded data removed]",
      "text/plain": [
       "<Figure size 432x288 with 1 Axes>"
      ]
     },
     "metadata": {
      "needs_background": "light"
     },
     "output_type": "display_data"
    }
   ],
   "source": [
    "df_survivors_by_fare_range = round(fare_third.pivot_table (\n",
    "    index=[\"Fare_range\"],\n",
    "    columns=\"Survived\", \n",
    "    aggfunc=\"count\"\n",
    ")[\"Name\"]/total_passengers,4)*100\n",
    "\n",
    "print(df_survivors_by_fare_range)\n",
    "df_survivors_by_fare_range.plot(kind='bar',colormap='coolwarm',title='Proportion of survivors and dead by fare range in 3rd class')\n"
   ]
  },
  {
   "cell_type": "code",
   "execution_count": 47,
   "id": "e8457b75-6534-433b-b808-6baacbd502cf",
   "metadata": {
    "tags": []
   },
   "outputs": [],
   "source": [
    "#From this plot, we can see that R6 and R7, are the fare ranges for 3rd class with the best survival chances\n",
    "#Yet, there is not a clear pattern that we can extract from this plot concerning survival tendancies\n",
    "#The only thing we can assess for sure is that in 3rd class, the chances to die are higher than chances to survive."
   ]
  },
  {
   "cell_type": "code",
   "execution_count": 49,
   "id": "56ed8df5-9cf3-4abf-886f-d10f353f0a65",
   "metadata": {},
   "outputs": [
    {
     "data": {
      "text/html": [
       "<div>\n",
       "<style scoped>\n",
       "    .dataframe tbody tr th:only-of-type {\n",
       "        vertical-align: middle;\n",
       "    }\n",
       "\n",
       "    .dataframe tbody tr th {\n",
       "        vertical-align: top;\n",
       "    }\n",
       "\n",
       "    .dataframe thead th {\n",
       "        text-align: right;\n",
       "    }\n",
       "</style>\n",
       "<table border=\"1\" class=\"dataframe\">\n",
       "  <thead>\n",
       "    <tr style=\"text-align: right;\">\n",
       "      <th></th>\n",
       "      <th>Survived</th>\n",
       "    </tr>\n",
       "    <tr>\n",
       "      <th>Pclass</th>\n",
       "      <th></th>\n",
       "    </tr>\n",
       "  </thead>\n",
       "  <tbody>\n",
       "    <tr>\n",
       "      <th>1</th>\n",
       "      <td>0.629630</td>\n",
       "    </tr>\n",
       "    <tr>\n",
       "      <th>2</th>\n",
       "      <td>0.472826</td>\n",
       "    </tr>\n",
       "    <tr>\n",
       "      <th>3</th>\n",
       "      <td>0.242363</td>\n",
       "    </tr>\n",
       "  </tbody>\n",
       "</table>\n",
       "</div>"
      ],
      "text/plain": [
       "        Survived\n",
       "Pclass          \n",
       "1       0.629630\n",
       "2       0.472826\n",
       "3       0.242363"
      ]
     },
     "execution_count": 49,
     "metadata": {},
     "output_type": "execute_result"
    }
   ],
   "source": [
    "#Because the fare is linked to the class, we thought it was relevant to analysis the survival rate per class.\n",
    "#This would confirm our hypothesis that in 3rd class the chances of survival are low \n",
    "#Would also confirm that the higher the fare, the higher the chances to survive\n",
    "\n",
    "class_survivors = df.groupby(\"Pclass\").agg({\"Survived\":\"mean\"})\n",
    "class_survivors"
   ]
  },
  {
   "cell_type": "code",
   "execution_count": 50,
   "id": "86a5b899-62d4-40f2-90af-d27695f9fd68",
   "metadata": {},
   "outputs": [
    {
     "name": "stdout",
     "output_type": "stream",
     "text": [
      "Survived      0      1\n",
      "Pclass                \n",
      "1          8.98  15.26\n",
      "2         10.89   9.76\n",
      "3         41.75  13.36\n"
     ]
    },
    {
     "data": {
      "text/plain": [
       "<AxesSubplot:title={'center':'Proportion of survivors and dead by class on the boat'}, xlabel='Pclass'>"
      ]
     },
     "execution_count": 50,
     "metadata": {},
     "output_type": "execute_result"
    },
    {
     "data": {
      "image/png": "[encoded data removed]",
      "text/plain": [
       "<Figure size 432x288 with 1 Axes>"
      ]
     },
     "metadata": {
      "needs_background": "light"
     },
     "output_type": "display_data"
    }
   ],
   "source": [
    "survivors_by_class = round(df.pivot_table (\n",
    "    index=[\"Pclass\"],\n",
    "    columns=\"Survived\", \n",
    "    aggfunc=\"count\"\n",
    ")[\"Name\"]/total_passengers,4)*100\n",
    "\n",
    "print(survivors_by_class)\n",
    "survivors_by_class.plot(kind='bar',colormap='coolwarm',title='Proportion of survivors and dead by class on the boat')\n"
   ]
  },
  {
   "cell_type": "code",
   "execution_count": 51,
   "id": "feb3e3a2-80f2-485b-862b-54c2c6b00f5c",
   "metadata": {},
   "outputs": [],
   "source": [
    "#Here we see that the \"higher\" the class, the higher the chances of survival.\n",
    "#Meaning that the more you pay, the higher the chances of surviving you have. \n",
    "#But this previous statement was not true inside of the 3rd class itself"
   ]
  },
  {
   "cell_type": "markdown",
   "id": "52d5a9a5-7c79-4967-8ef0-479801c57bba",
   "metadata": {},
   "source": [
    "#### Conclusion\n",
    "For this second insight's analysis, we can conclude that the price paid for a ticket in 3rd class could have slightly impacted the chances of survival of each passenger. In fact, tickets in range R6 and R7:((15.5, 24.15] < (24.15, 69.55]) shown higher survival chances than in the other range, (5 lower and 1 higher range). \n",
    "The clear output that we get from this analysis, is that passengers in 3rd class, always had more chances to die than to survive. \n",
    "\n",
    "Following that output, we analysed the survival rate per class, just out of curiosity. And we were able to  conclude that passengers from 1st class survived more the sinking of the Titanic than passengers from 3rd class."
   ]
  },
  {
   "cell_type": "markdown",
   "id": "fa6a4eca-520c-4214-9874-a02f36d7bee5",
   "metadata": {},
   "source": [
    "---"
   ]
  },
  {
   "cell_type": "markdown",
   "id": "1aa229e9-2612-4450-a31c-b8de8de39205",
   "metadata": {},
   "source": [
    "## Insight n3:\n",
    "We want to find from which port of embarcation are coming most of the Alone men travelling on the Titanic? (Embarked, Sibp (and Parch), Gender)\n",
    "\n",
    "FYI: After a quick research, the 3 initials : C, Q and S, correspond to: 'Cherbourg','Queenstown','Southampton'. They were the 3 port of embarcation for the Titanic.\n",
    "\n",
    "\n",
    "Sibsp : nb of siblings/spouses aboard the titanic \n",
    "& Parch : nb of parents/children aboard the titanic\n"
   ]
  },
  {
   "cell_type": "code",
   "execution_count": 52,
   "id": "396ba4cf-9e1a-49d8-86c5-6eae0a668742",
   "metadata": {},
   "outputs": [
    {
     "data": {
      "text/plain": [
       "count     889\n",
       "unique      3\n",
       "top         S\n",
       "freq      644\n",
       "Name: Embarked, dtype: object"
      ]
     },
     "execution_count": 52,
     "metadata": {},
     "output_type": "execute_result"
    }
   ],
   "source": [
    "df[\"Embarked\"].describe()"
   ]
  },
  {
   "cell_type": "code",
   "execution_count": 53,
   "id": "a660aef1-f964-4442-9ba6-f76b8b439faa",
   "metadata": {},
   "outputs": [
    {
     "data": {
      "text/plain": [
       "2"
      ]
     },
     "execution_count": 53,
     "metadata": {},
     "output_type": "execute_result"
    }
   ],
   "source": [
    "df[\"Embarked\"].isnull().sum()"
   ]
  },
  {
   "cell_type": "code",
   "execution_count": 54,
   "id": "3a5f7fdf-fe44-476a-be63-d0d263287ec7",
   "metadata": {},
   "outputs": [],
   "source": [
    "#We want to fill the 2 missing values, with the most frequent value of the Embarked column. \n",
    "df[\"Embarked\"] = df[\"Embarked\"].fillna(df[\"Embarked\"].mode().iloc[0])"
   ]
  },
  {
   "cell_type": "code",
   "execution_count": 55,
   "id": "52263d9b-5f8c-41fb-aadf-68a90b485c3c",
   "metadata": {},
   "outputs": [
    {
     "data": {
      "text/plain": [
       "0"
      ]
     },
     "execution_count": 55,
     "metadata": {},
     "output_type": "execute_result"
    }
   ],
   "source": [
    "df[\"Embarked\"].isnull().sum()"
   ]
  },
  {
   "cell_type": "code",
   "execution_count": 56,
   "id": "4f8ecdcc-f63f-445a-b714-e5a846510902",
   "metadata": {},
   "outputs": [
    {
     "data": {
      "text/plain": [
       "487"
      ]
     },
     "execution_count": 56,
     "metadata": {},
     "output_type": "execute_result"
    }
   ],
   "source": [
    "df_men_family = df[(df[\"Sex\"]==\"male\")].copy()\n",
    "len(fare_third)"
   ]
  },
  {
   "cell_type": "code",
   "execution_count": 57,
   "id": "5fee725f-d1e8-4a34-a787-995999ed3420",
   "metadata": {},
   "outputs": [],
   "source": [
    "#We assume that people are part of a family if they have a sibiling/spouse or a parent/children on the boat\n",
    "df_men_family['Family'] = (df_men_family['SibSp'] > 0) | (df_men_family['Parch'] > 0).copy()"
   ]
  },
  {
   "cell_type": "code",
   "execution_count": 58,
   "id": "75c81517-09d5-4628-a4d1-ffeaccacb6bd",
   "metadata": {},
   "outputs": [],
   "source": [
    "#We convert the boolean to a string describing the situation, for it to be more understandable\n",
    "df_men_family[\"Family\"]= df_men_family['Family'].replace(to_replace = True, value = \"With family\")\n",
    "df_men_family[\"Family\"]= df_men_family['Family'].replace(to_replace = False, value = \"Alone\")"
   ]
  },
  {
   "cell_type": "code",
   "execution_count": 59,
   "id": "e658dba3-fa4c-43c8-8595-9d200386e75b",
   "metadata": {},
   "outputs": [],
   "source": [
    "#We assume that the family size of each passenger is the sum of their sibiling/spouse and a parent/children\n",
    "#in the end, we didn't used this variable for our analysis\n",
    "#df_men_family['Family_size'] = (df_men_family['SibSp']) + (df_men_family['Parch']) + 1"
   ]
  },
  {
   "cell_type": "code",
   "execution_count": 61,
   "id": "11378177-568f-4ac9-bef1-c349be61abe2",
   "metadata": {},
   "outputs": [
    {
     "data": {
      "text/html": [
       "<div>\n",
       "<style scoped>\n",
       "    .dataframe tbody tr th:only-of-type {\n",
       "        vertical-align: middle;\n",
       "    }\n",
       "\n",
       "    .dataframe tbody tr th {\n",
       "        vertical-align: top;\n",
       "    }\n",
       "\n",
       "    .dataframe thead th {\n",
       "        text-align: right;\n",
       "    }\n",
       "</style>\n",
       "<table border=\"1\" class=\"dataframe\">\n",
       "  <thead>\n",
       "    <tr style=\"text-align: right;\">\n",
       "      <th></th>\n",
       "      <th>Survived</th>\n",
       "      <th>Pclass</th>\n",
       "      <th>Name</th>\n",
       "      <th>Sex</th>\n",
       "      <th>Age</th>\n",
       "      <th>SibSp</th>\n",
       "      <th>Parch</th>\n",
       "      <th>Ticket</th>\n",
       "      <th>Fare</th>\n",
       "      <th>Cabin</th>\n",
       "      <th>Embarked</th>\n",
       "      <th>Title</th>\n",
       "      <th>Age_Range</th>\n",
       "      <th>Family</th>\n",
       "      <th>Family_size</th>\n",
       "    </tr>\n",
       "    <tr>\n",
       "      <th>PassengerId</th>\n",
       "      <th></th>\n",
       "      <th></th>\n",
       "      <th></th>\n",
       "      <th></th>\n",
       "      <th></th>\n",
       "      <th></th>\n",
       "      <th></th>\n",
       "      <th></th>\n",
       "      <th></th>\n",
       "      <th></th>\n",
       "      <th></th>\n",
       "      <th></th>\n",
       "      <th></th>\n",
       "      <th></th>\n",
       "      <th></th>\n",
       "    </tr>\n",
       "  </thead>\n",
       "  <tbody>\n",
       "    <tr>\n",
       "      <th>1</th>\n",
       "      <td>0</td>\n",
       "      <td>3</td>\n",
       "      <td>Mr. Owen Harris</td>\n",
       "      <td>male</td>\n",
       "      <td>22.00000</td>\n",
       "      <td>1</td>\n",
       "      <td>0</td>\n",
       "      <td>A/5 21171</td>\n",
       "      <td>7.2500</td>\n",
       "      <td>NaN</td>\n",
       "      <td>S</td>\n",
       "      <td>Mr</td>\n",
       "      <td>0-30</td>\n",
       "      <td>With family</td>\n",
       "      <td>2</td>\n",
       "    </tr>\n",
       "    <tr>\n",
       "      <th>5</th>\n",
       "      <td>0</td>\n",
       "      <td>3</td>\n",
       "      <td>Mr. William Henry</td>\n",
       "      <td>male</td>\n",
       "      <td>35.00000</td>\n",
       "      <td>0</td>\n",
       "      <td>0</td>\n",
       "      <td>373450</td>\n",
       "      <td>8.0500</td>\n",
       "      <td>NaN</td>\n",
       "      <td>S</td>\n",
       "      <td>Mr</td>\n",
       "      <td>30-60</td>\n",
       "      <td>Alone</td>\n",
       "      <td>1</td>\n",
       "    </tr>\n",
       "    <tr>\n",
       "      <th>6</th>\n",
       "      <td>0</td>\n",
       "      <td>3</td>\n",
       "      <td>Mr. James</td>\n",
       "      <td>male</td>\n",
       "      <td>32.36809</td>\n",
       "      <td>0</td>\n",
       "      <td>0</td>\n",
       "      <td>330877</td>\n",
       "      <td>8.4583</td>\n",
       "      <td>NaN</td>\n",
       "      <td>Q</td>\n",
       "      <td>Mr</td>\n",
       "      <td>30-60</td>\n",
       "      <td>Alone</td>\n",
       "      <td>1</td>\n",
       "    </tr>\n",
       "    <tr>\n",
       "      <th>7</th>\n",
       "      <td>0</td>\n",
       "      <td>1</td>\n",
       "      <td>Mr. Timothy J</td>\n",
       "      <td>male</td>\n",
       "      <td>54.00000</td>\n",
       "      <td>0</td>\n",
       "      <td>0</td>\n",
       "      <td>17463</td>\n",
       "      <td>51.8625</td>\n",
       "      <td>E46</td>\n",
       "      <td>S</td>\n",
       "      <td>Mr</td>\n",
       "      <td>30-60</td>\n",
       "      <td>Alone</td>\n",
       "      <td>1</td>\n",
       "    </tr>\n",
       "    <tr>\n",
       "      <th>8</th>\n",
       "      <td>0</td>\n",
       "      <td>3</td>\n",
       "      <td>Master. Gosta Leonard</td>\n",
       "      <td>male</td>\n",
       "      <td>2.00000</td>\n",
       "      <td>3</td>\n",
       "      <td>1</td>\n",
       "      <td>349909</td>\n",
       "      <td>21.0750</td>\n",
       "      <td>NaN</td>\n",
       "      <td>S</td>\n",
       "      <td>Master</td>\n",
       "      <td>0-30</td>\n",
       "      <td>With family</td>\n",
       "      <td>5</td>\n",
       "    </tr>\n",
       "  </tbody>\n",
       "</table>\n",
       "</div>"
      ],
      "text/plain": [
       "             Survived  Pclass                   Name   Sex       Age  SibSp  \\\n",
       "PassengerId                                                                   \n",
       "1                   0       3        Mr. Owen Harris  male  22.00000      1   \n",
       "5                   0       3      Mr. William Henry  male  35.00000      0   \n",
       "6                   0       3              Mr. James  male  32.36809      0   \n",
       "7                   0       1          Mr. Timothy J  male  54.00000      0   \n",
       "8                   0       3  Master. Gosta Leonard  male   2.00000      3   \n",
       "\n",
       "             Parch     Ticket     Fare Cabin Embarked   Title Age_Range  \\\n",
       "PassengerId                                                               \n",
       "1                0  A/5 21171   7.2500   NaN        S      Mr      0-30   \n",
       "5                0     373450   8.0500   NaN        S      Mr     30-60   \n",
       "6                0     330877   8.4583   NaN        Q      Mr     30-60   \n",
       "7                0      17463  51.8625   E46        S      Mr     30-60   \n",
       "8                1     349909  21.0750   NaN        S  Master      0-30   \n",
       "\n",
       "                  Family  Family_size  \n",
       "PassengerId                            \n",
       "1            With family            2  \n",
       "5                  Alone            1  \n",
       "6                  Alone            1  \n",
       "7                  Alone            1  \n",
       "8            With family            5  "
      ]
     },
     "execution_count": 61,
     "metadata": {},
     "output_type": "execute_result"
    }
   ],
   "source": [
    "df_men_family.head()"
   ]
  },
  {
   "cell_type": "code",
   "execution_count": 62,
   "id": "c6bd4bd3-bc43-4279-b7d4-b229ba5895b8",
   "metadata": {},
   "outputs": [
    {
     "data": {
      "text/html": [
       "<div>\n",
       "<style scoped>\n",
       "    .dataframe tbody tr th:only-of-type {\n",
       "        vertical-align: middle;\n",
       "    }\n",
       "\n",
       "    .dataframe tbody tr th {\n",
       "        vertical-align: top;\n",
       "    }\n",
       "\n",
       "    .dataframe thead th {\n",
       "        text-align: right;\n",
       "    }\n",
       "</style>\n",
       "<table border=\"1\" class=\"dataframe\">\n",
       "  <thead>\n",
       "    <tr style=\"text-align: right;\">\n",
       "      <th>Family</th>\n",
       "      <th>Alone</th>\n",
       "      <th>With family</th>\n",
       "    </tr>\n",
       "  </thead>\n",
       "  <tbody>\n",
       "    <tr>\n",
       "      <th>Cherbourg</th>\n",
       "      <td>60</td>\n",
       "      <td>35</td>\n",
       "    </tr>\n",
       "    <tr>\n",
       "      <th>Queenstown</th>\n",
       "      <td>30</td>\n",
       "      <td>11</td>\n",
       "    </tr>\n",
       "    <tr>\n",
       "      <th>Southampton</th>\n",
       "      <td>321</td>\n",
       "      <td>120</td>\n",
       "    </tr>\n",
       "  </tbody>\n",
       "</table>\n",
       "</div>"
      ],
      "text/plain": [
       "Family       Alone  With family\n",
       "Cherbourg       60           35\n",
       "Queenstown      30           11\n",
       "Southampton    321          120"
      ]
     },
     "execution_count": 62,
     "metadata": {},
     "output_type": "execute_result"
    }
   ],
   "source": [
    "#we want to see from which port of embarcation are coming most of the men, and if they have family.\n",
    "\n",
    "embarked_and_family = df_men_family.pivot_table (\n",
    "    index=[\"Embarked\"],\n",
    "    columns=\"Family\", \n",
    "    aggfunc=\"count\"\n",
    ")[\"Name\"]\n",
    "\n",
    "embarked_and_family.index = ['Cherbourg','Queenstown','Southampton']\n",
    "embarked_and_family"
   ]
  },
  {
   "cell_type": "code",
   "execution_count": 63,
   "id": "96429c8f-e1b7-4f26-9db6-fe873ed1b14d",
   "metadata": {},
   "outputs": [
    {
     "data": {
      "text/plain": [
       "<AxesSubplot:title={'center':'Proportion of men, alone or with family and where they embarked.'}>"
      ]
     },
     "execution_count": 63,
     "metadata": {},
     "output_type": "execute_result"
    },
    {
     "data": {
      "image/png": "[encoded data removed]",
      "text/plain": [
       "<Figure size 432x288 with 1 Axes>"
      ]
     },
     "metadata": {
      "needs_background": "light"
     },
     "output_type": "display_data"
    }
   ],
   "source": [
    "embarked_and_family.plot(kind='bar',colormap='coolwarm',title='Proportion of men, alone or with family and where they embarked.')\n"
   ]
  },
  {
   "cell_type": "code",
   "execution_count": 64,
   "id": "052294da-ef4b-4d03-b6aa-cbc96e9e8866",
   "metadata": {},
   "outputs": [],
   "source": [
    "#We can see from the above table and plot that people that most of the people come from Southampton. \n",
    "#Overall, from each port of embarcation, they are more men travelling alone than with family."
   ]
  },
  {
   "cell_type": "code",
   "execution_count": 78,
   "id": "f5198f21-0466-450e-9085-f6cf3ef98ed2",
   "metadata": {},
   "outputs": [
    {
     "name": "stdout",
     "output_type": "stream",
     "text": [
      "Alone men are: 35.71 % of all the passengers that embarked in Cherboug.\n",
      "Alone men are: 38.96 % of all the passengers that embarked in Queenstown.\n",
      "Alone men are: 49.69 % of all the passengers that embarked in Southampton.\n"
     ]
    }
   ],
   "source": [
    "#We want to do the ratio out of the total of passengers coming from each port, what proportion of them are alone men\n",
    "alone_men_cherbourg = round(\n",
    "    len(df_men_family.loc[(df_men_family[\"Family\"]==\"Alone\") \n",
    "                & (df_men_family[\"Embarked\"] == \"C\")])/ \n",
    "    len(df.loc[(df[\"Embarked\"] == \"C\")])*100,2)\n",
    "\n",
    "alone_men_queenstown = round(\n",
    "    len(df_men_family.loc[(df_men_family[\"Family\"]==\"Alone\") \n",
    "                & (df_men_family[\"Embarked\"] == \"Q\")])/ \n",
    "    len(df.loc[(df[\"Embarked\"] == \"Q\")])*100,2)\n",
    "\n",
    "alone_men_southampton = round(\n",
    "    len(df_men_family.loc[(df_men_family[\"Family\"]==\"Alone\") \n",
    "                & (df_men_family[\"Embarked\"] == \"S\")])/ \n",
    "    len(df.loc[(df[\"Embarked\"] == \"S\")])*100,2) \n",
    "\n",
    "print(\"Alone men are:\", alone_men_cherbourg, \"% of all the passengers that embarked in Cherboug.\")\n",
    "print(\"Alone men are:\", alone_men_queenstown, \"% of all the passengers that embarked in Queenstown.\")\n",
    "print(\"Alone men are:\", alone_men_southampton, \"% of all the passengers that embarked in Southampton.\")"
   ]
  },
  {
   "cell_type": "code",
   "execution_count": 66,
   "id": "50cacf71-fb3e-4d36-b297-6cf7c0cee6ee",
   "metadata": {},
   "outputs": [],
   "source": [
    "#We can see here, that the port from which the majority of alone men came from was Southampton. \n",
    "#They represent almost half of the passenger that embarked there."
   ]
  },
  {
   "cell_type": "markdown",
   "id": "994c2434-b15a-41e7-b351-16cbc6bd6f75",
   "metadata": {},
   "source": [
    "### Conclusion \n",
    "With this analysis, we were able to highlight the fact that the proportion of men travelling alone is higher than the proportion of men travelling with family; regardless of their port of embarcation. \n",
    "We can also conclude that overall all the passenger that embarked in each distinct port, the harbor from where the most alone men embarked was Southampton. \n"
   ]
  },
  {
   "cell_type": "markdown",
   "id": "f46402e6-c496-4478-9f95-ccaa0ac3c471",
   "metadata": {},
   "source": [
    "---"
   ]
  }
 ],
 "metadata": {
  "kernelspec": {
   "display_name": "Python 3",
   "language": "python",
   "name": "python3"
  },
  "language_info": {
   "codemirror_mode": {
    "name": "ipython",
    "version": 3
   },
   "file_extension": ".py",
   "mimetype": "text/x-python",
   "name": "python",
   "nbconvert_exporter": "python",
   "pygments_lexer": "ipython3",
   "version": "3.8.8"
  }
 },
 "nbformat": 4,
 "nbformat_minor": 5
}
